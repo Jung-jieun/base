{
 "cells": [
  {
   "cell_type": "markdown",
   "id": "65b2470a",
   "metadata": {},
   "source": [
    "# 4장 반복문"
   ]
  },
  {
   "cell_type": "code",
   "execution_count": 3,
   "id": "d3363d77",
   "metadata": {},
   "outputs": [
    {
     "data": {
      "text/plain": [
       "['수박', '바나나', '키위', 1, 2, True]"
      ]
     },
     "execution_count": 3,
     "metadata": {},
     "output_type": "execute_result"
    }
   ],
   "source": [
    "a=['수박','바나나','키위',1,2,True] "
   ]
  },
  {
   "cell_type": "code",
   "execution_count": 4,
   "id": "40db6788",
   "metadata": {},
   "outputs": [
    {
     "data": {
      "text/plain": [
       "'수박'"
      ]
     },
     "execution_count": 4,
     "metadata": {},
     "output_type": "execute_result"
    }
   ],
   "source": [
    "a[0]"
   ]
  },
  {
   "cell_type": "code",
   "execution_count": 6,
   "id": "8c149933",
   "metadata": {},
   "outputs": [
    {
     "data": {
      "text/plain": [
       "'자'"
      ]
     },
     "execution_count": 6,
     "metadata": {},
     "output_type": "execute_result"
    }
   ],
   "source": [
    "a = [\"문자열\"]\n",
    "a[0][1]"
   ]
  },
  {
   "cell_type": "code",
   "execution_count": 7,
   "id": "dfcaf5be",
   "metadata": {},
   "outputs": [
    {
     "data": {
      "text/plain": [
       "True"
      ]
     },
     "execution_count": 7,
     "metadata": {},
     "output_type": "execute_result"
    }
   ],
   "source": [
    "1 in [1,2,3]"
   ]
  },
  {
   "cell_type": "code",
   "execution_count": 26,
   "id": "4a6f6e49",
   "metadata": {},
   "outputs": [
    {
     "data": {
      "text/plain": [
       "[1, 2, 3, 4]"
      ]
     },
     "execution_count": 26,
     "metadata": {},
     "output_type": "execute_result"
    }
   ],
   "source": [
    "a = [1,2,3]\n",
    "a.append(4)\n",
    "a"
   ]
  },
  {
   "cell_type": "code",
   "execution_count": 27,
   "id": "b84d11d1",
   "metadata": {},
   "outputs": [
    {
     "data": {
      "text/plain": [
       "[1, 1, 2, 3, 4]"
      ]
     },
     "execution_count": 27,
     "metadata": {},
     "output_type": "execute_result"
    }
   ],
   "source": [
    "a.insert(1,1)\n",
    "a"
   ]
  },
  {
   "cell_type": "code",
   "execution_count": 28,
   "id": "7fc8d374",
   "metadata": {},
   "outputs": [
    {
     "data": {
      "text/plain": [
       "[1, 1, 2, 3, 4, 5, 6, 7]"
      ]
     },
     "execution_count": 28,
     "metadata": {},
     "output_type": "execute_result"
    }
   ],
   "source": [
    "a.extend([5,6,7])\n",
    "a"
   ]
  },
  {
   "cell_type": "code",
   "execution_count": 29,
   "id": "ebcbb032",
   "metadata": {},
   "outputs": [
    {
     "data": {
      "text/plain": [
       "[1, 3, 4, 5, 6, 7]"
      ]
     },
     "execution_count": 29,
     "metadata": {},
     "output_type": "execute_result"
    }
   ],
   "source": [
    "a = [1,2,3,4,5,6,7]\n",
    "del a[1]\n",
    "a"
   ]
  },
  {
   "cell_type": "code",
   "execution_count": 32,
   "id": "bddb7814",
   "metadata": {},
   "outputs": [
    {
     "data": {
      "text/plain": [
       "7"
      ]
     },
     "execution_count": 32,
     "metadata": {},
     "output_type": "execute_result"
    }
   ],
   "source": [
    "a = [1,2,3,4,5,6,7]\n",
    "a.pop(1)\n",
    "a.pop()"
   ]
  },
  {
   "cell_type": "code",
   "execution_count": 34,
   "id": "7cb1440e",
   "metadata": {},
   "outputs": [
    {
     "data": {
      "text/plain": [
       "[200, 300, 400, 500]"
      ]
     },
     "execution_count": 34,
     "metadata": {},
     "output_type": "execute_result"
    }
   ],
   "source": [
    "a = [100,200,300,400,500]\n",
    "a.remove(100)\n",
    "a"
   ]
  },
  {
   "cell_type": "code",
   "execution_count": 35,
   "id": "1e23af1a",
   "metadata": {},
   "outputs": [
    {
     "data": {
      "text/plain": [
       "[1, 1, 1, 1]"
      ]
     },
     "execution_count": 35,
     "metadata": {},
     "output_type": "execute_result"
    }
   ],
   "source": [
    "a = [1,1,1,1,1]\n",
    "a.remove(1)\n",
    "a"
   ]
  },
  {
   "cell_type": "code",
   "execution_count": 36,
   "id": "70f1da53",
   "metadata": {},
   "outputs": [
    {
     "data": {
      "text/plain": [
       "[]"
      ]
     },
     "execution_count": 36,
     "metadata": {},
     "output_type": "execute_result"
    }
   ],
   "source": [
    "a = [1,2,3,4,5,6,7]\n",
    "a.clear()\n",
    "a"
   ]
  },
  {
   "cell_type": "code",
   "execution_count": 37,
   "id": "73d6a73d",
   "metadata": {},
   "outputs": [
    {
     "name": "stdout",
     "output_type": "stream",
     "text": [
      "1\n",
      "2\n",
      "3\n",
      "4\n",
      "5\n",
      "6\n",
      "7\n"
     ]
    }
   ],
   "source": [
    "a = [1,2,3,4,5,6,7]\n",
    "\n",
    "for element in a :\n",
    "    print(element)"
   ]
  },
  {
   "cell_type": "code",
   "execution_count": 38,
   "id": "63780c03",
   "metadata": {},
   "outputs": [
    {
     "name": "stdout",
     "output_type": "stream",
     "text": [
      "- 100 이상의 수 : 273\n",
      "- 100 이상의 수 : 103\n",
      "- 100 이상의 수 : 800\n"
     ]
    }
   ],
   "source": [
    "numbers = [273,103,5,32,65,9,72,800,99]\n",
    "\n",
    "for number in numbers :\n",
    "    if number >=100 :\n",
    "        print(\"- 100 이상의 수 : {}\".format(number))"
   ]
  },
  {
   "cell_type": "code",
   "execution_count": 41,
   "id": "f6936f1a",
   "metadata": {},
   "outputs": [
    {
     "name": "stdout",
     "output_type": "stream",
     "text": [
      "273는 홀수입니다\n",
      "103는 홀수입니다\n",
      "5는 홀수입니다\n",
      "32는 짝수입니다\n",
      "65는 홀수입니다\n",
      "9는 홀수입니다\n",
      "72는 짝수입니다\n",
      "800는 짝수입니다\n",
      "99는 홀수입니다\n"
     ]
    }
   ],
   "source": [
    "numbers = [273,103,5,32,65,9,72,800,99]\n",
    "\n",
    "for number in numbers :\n",
    "    if number % 2 ==0:\n",
    "        print(\"{}는 짝수입니다\".format(number))\n",
    "    else :\n",
    "        print(\"{}는 홀수입니다\".format(number))"
   ]
  },
  {
   "cell_type": "code",
   "execution_count": 42,
   "id": "dcbd13a4",
   "metadata": {},
   "outputs": [
    {
     "name": "stdout",
     "output_type": "stream",
     "text": [
      "273sms 3 자리수입니다.\n",
      "103sms 3 자리수입니다.\n",
      "5sms 1 자리수입니다.\n",
      "32sms 2 자리수입니다.\n",
      "65sms 2 자리수입니다.\n",
      "9sms 1 자리수입니다.\n",
      "72sms 2 자리수입니다.\n",
      "800sms 3 자리수입니다.\n",
      "99sms 2 자리수입니다.\n"
     ]
    }
   ],
   "source": [
    "numbers = [273,103,5,32,65,9,72,800,99]\n",
    "\n",
    "for number in numbers :\n",
    "    print(\"{}는 {} 자리수입니다.\".format(number,len(str(number))))"
   ]
  },
  {
   "cell_type": "code",
   "execution_count": 43,
   "id": "02a0e856",
   "metadata": {},
   "outputs": [
    {
     "name": "stdout",
     "output_type": "stream",
     "text": [
      "1\n",
      "2\n",
      "3\n",
      "4\n",
      "5\n",
      "6\n",
      "7\n",
      "8\n",
      "9\n"
     ]
    }
   ],
   "source": [
    "list_of_list = [\n",
    "    [1,2,3],\n",
    "    [4,5,6,7],\n",
    "    [8,9]\n",
    "]\n",
    "\n",
    "for a in list_of_list:\n",
    "    #[1,2,3] > [4,5,6,7] > [8,9]\n",
    "    for b in a:\n",
    "        # 1,2,3 // 4,5,6,7 // 8,9 한번 더 반복\n",
    "        print(b)\n",
    "    "
   ]
  },
  {
   "cell_type": "markdown",
   "id": "3a650723",
   "metadata": {},
   "source": [
    "**딕셔너리**"
   ]
  },
  {
   "cell_type": "code",
   "execution_count": 1,
   "id": "5ca07dc9",
   "metadata": {},
   "outputs": [],
   "source": [
    "#리스트 [1,2]\n",
    "#딕셔너리 {\"키A\":\"값A\",}"
   ]
  },
  {
   "cell_type": "code",
   "execution_count": 3,
   "id": "a001c4e5",
   "metadata": {},
   "outputs": [
    {
     "name": "stdout",
     "output_type": "stream",
     "text": [
      "값A\n"
     ]
    }
   ],
   "source": [
    "딕셔너리 = {\n",
    "    \"키A\" : \"값A\",\n",
    "    \"키B\" : \"값B\",\n",
    "    \"키C\" : \"값C\"\n",
    "}\n",
    "print(딕셔너리[\"키A\"])"
   ]
  },
  {
   "cell_type": "code",
   "execution_count": 4,
   "id": "2bd0541f",
   "metadata": {},
   "outputs": [
    {
     "name": "stdout",
     "output_type": "stream",
     "text": [
      "문자열:값\n",
      "273:[1, 2, 3, 4]\n",
      "True:False\n"
     ]
    }
   ],
   "source": [
    "딕셔너리 = {\n",
    "    \"문자열\":\"값\",\n",
    "    273:[1,2,3,4],\n",
    "    True : False\n",
    "}\n",
    "\n",
    "for key in 딕셔너리:\n",
    "    print(\"{}:{}\".format(key,딕셔너리[key]))"
   ]
  },
  {
   "cell_type": "code",
   "execution_count": 5,
   "id": "58de20a8",
   "metadata": {},
   "outputs": [
    {
     "name": "stdout",
     "output_type": "stream",
     "text": [
      "문자열:값\n",
      "273:[1, 2, 3, 4]\n",
      "True:False\n",
      "키:값\n"
     ]
    }
   ],
   "source": [
    "딕셔너리[\"키\"] = \"값\"\n",
    "for key in 딕셔너리:\n",
    "    print(\"{}:{}\".format(key,딕셔너리[key])) #코드추가"
   ]
  },
  {
   "cell_type": "code",
   "execution_count": 6,
   "id": "54b5e2c4",
   "metadata": {},
   "outputs": [
    {
     "name": "stdout",
     "output_type": "stream",
     "text": [
      "문자열:값\n",
      "273:[1, 2, 3, 4]\n",
      "True:False\n"
     ]
    }
   ],
   "source": [
    "del 딕셔너리[\"키\"]\n",
    "for key in 딕셔너리:\n",
    "    print(\"{}:{}\".format(key,딕셔너리[key])) #코드제거"
   ]
  },
  {
   "cell_type": "code",
   "execution_count": 7,
   "id": "4d07d99b",
   "metadata": {},
   "outputs": [
    {
     "name": "stdout",
     "output_type": "stream",
     "text": [
      "없는 키입니다\n"
     ]
    }
   ],
   "source": [
    "#딕셔너리 내부에 키 확인하는 방법\n",
    "dictionary = {\n",
    "    \"이름\" : \"구름\",\n",
    "    \"종족\" : \"강아지\"\n",
    "}\n",
    "\n",
    "if \"나이\" in dictionary:\n",
    "    print(dictionary[\"나이\"])\n",
    "else :\n",
    "    print(\"없는 키입니다\")"
   ]
  },
  {
   "cell_type": "code",
   "execution_count": 8,
   "id": "b4c75883",
   "metadata": {},
   "outputs": [
    {
     "name": "stdout",
     "output_type": "stream",
     "text": [
      "None\n"
     ]
    }
   ],
   "source": [
    "print(dictionary.get(\"나이\"))"
   ]
  },
  {
   "cell_type": "code",
   "execution_count": 9,
   "id": "edc00e55",
   "metadata": {},
   "outputs": [
    {
     "name": "stdout",
     "output_type": "stream",
     "text": [
      "#우리 동네 애완 동물들\n",
      "구름 5살\n",
      "초코 3살\n",
      "아지 1살\n",
      "호랑이 1살\n"
     ]
    }
   ],
   "source": [
    "pets = [\n",
    "    {\"name\" : \"구름\",\"age\":5 },\n",
    "    {\"name\" : \"초코\",\"age\":3 },\n",
    "    {\"name\" : \"아지\",\"age\":1 },\n",
    "    {\"name\" : \"호랑이\",\"age\":1 },\n",
    "]\n",
    "\n",
    "print(\"#우리 동네 애완 동물들\")\n",
    "for pet in pets:\n",
    "    print(\"{} {}살\".format(pet[\"name\"],pet[\"age\"]))"
   ]
  },
  {
   "cell_type": "code",
   "execution_count": 11,
   "id": "fc801d99",
   "metadata": {},
   "outputs": [
    {
     "name": "stdout",
     "output_type": "stream",
     "text": [
      "{1: 3, 2: 4, 3: 4, 8: 2, 4: 3, 9: 3, 5: 2, 7: 2}\n"
     ]
    }
   ],
   "source": [
    "numbers = [1,2,3,8,4,3,2,1,9,5,4,9,7,2,1,3,5,4,8,9,7,2,3]\n",
    "counter = {}\n",
    "\n",
    "for number in numbers:\n",
    "    if number in counter:\n",
    "        counter[number]+=1\n",
    "    else:\n",
    "        counter[number]=1\n",
    "print(counter)"
   ]
  },
  {
   "cell_type": "code",
   "execution_count": 17,
   "id": "e90e2ce4",
   "metadata": {},
   "outputs": [
    {
     "name": "stdout",
     "output_type": "stream",
     "text": [
      "name:기사\n",
      "level:12\n",
      "sword:불꽃의 검\n",
      "armor:풀풀레이트\n",
      "skill:베기\n",
      "skill:세게 베기\n",
      "skill:아주 세게 베기\n"
     ]
    }
   ],
   "source": [
    "#flating\n",
    "character = {\n",
    "    \"name\":\"기사\",\n",
    "    \"level\":12,\n",
    "    \"items\":{\n",
    "        \"sword\":\"불꽃의 검\",\n",
    "        \"armor\":\"풀풀레이트\"\n",
    "    },\n",
    "    \"skill\":[\"베기\",\"세게 베기\",\"아주 세게 베기\"]\n",
    "}\n",
    "\n",
    "for key in character:\n",
    "    if type(character[key]) is dict:        #딕셔너리일 때\n",
    "        for k in character[key]:\n",
    "            print(\"{}:{}\".format(k, character[key][k]))\n",
    "    elif type(character[key]) is list: #리스트일 때\n",
    "        for skill in character[key]:\n",
    "            print(\"{}:{}\".format(key,skill))\n",
    "    else :\n",
    "        print(\"{}:{}\".format(key,character[key]))\n"
   ]
  },
  {
   "cell_type": "code",
   "execution_count": null,
   "id": "35673c9a",
   "metadata": {},
   "outputs": [],
   "source": []
  }
 ],
 "metadata": {
  "kernelspec": {
   "display_name": "Python 3 (ipykernel)",
   "language": "python",
   "name": "python3"
  },
  "language_info": {
   "codemirror_mode": {
    "name": "ipython",
    "version": 3
   },
   "file_extension": ".py",
   "mimetype": "text/x-python",
   "name": "python",
   "nbconvert_exporter": "python",
   "pygments_lexer": "ipython3",
   "version": "3.9.7"
  }
 },
 "nbformat": 4,
 "nbformat_minor": 5
}
