{
 "cells": [
  {
   "cell_type": "markdown",
   "id": "65b2470a",
   "metadata": {},
   "source": [
    "# 4장 반복문"
   ]
  },
  {
   "cell_type": "code",
   "execution_count": 3,
   "id": "d3363d77",
   "metadata": {},
   "outputs": [
    {
     "data": {
      "text/plain": [
       "['수박', '바나나', '키위', 1, 2, True]"
      ]
     },
     "execution_count": 3,
     "metadata": {},
     "output_type": "execute_result"
    }
   ],
   "source": [
    "a=['수박','바나나','키위',1,2,True] "
   ]
  },
  {
   "cell_type": "code",
   "execution_count": 4,
   "id": "40db6788",
   "metadata": {},
   "outputs": [
    {
     "data": {
      "text/plain": [
       "'수박'"
      ]
     },
     "execution_count": 4,
     "metadata": {},
     "output_type": "execute_result"
    }
   ],
   "source": [
    "a[0]"
   ]
  },
  {
   "cell_type": "code",
   "execution_count": 6,
   "id": "8c149933",
   "metadata": {},
   "outputs": [
    {
     "data": {
      "text/plain": [
       "'자'"
      ]
     },
     "execution_count": 6,
     "metadata": {},
     "output_type": "execute_result"
    }
   ],
   "source": [
    "a = [\"문자열\"]\n",
    "a[0][1]"
   ]
  },
  {
   "cell_type": "code",
   "execution_count": 7,
   "id": "dfcaf5be",
   "metadata": {},
   "outputs": [
    {
     "data": {
      "text/plain": [
       "True"
      ]
     },
     "execution_count": 7,
     "metadata": {},
     "output_type": "execute_result"
    }
   ],
   "source": [
    "1 in [1,2,3]"
   ]
  },
  {
   "cell_type": "code",
   "execution_count": 26,
   "id": "4a6f6e49",
   "metadata": {},
   "outputs": [
    {
     "data": {
      "text/plain": [
       "[1, 2, 3, 4]"
      ]
     },
     "execution_count": 26,
     "metadata": {},
     "output_type": "execute_result"
    }
   ],
   "source": [
    "a = [1,2,3]\n",
    "a.append(4)\n",
    "a"
   ]
  },
  {
   "cell_type": "code",
   "execution_count": 27,
   "id": "b84d11d1",
   "metadata": {},
   "outputs": [
    {
     "data": {
      "text/plain": [
       "[1, 1, 2, 3, 4]"
      ]
     },
     "execution_count": 27,
     "metadata": {},
     "output_type": "execute_result"
    }
   ],
   "source": [
    "a.insert(1,1)\n",
    "a"
   ]
  },
  {
   "cell_type": "code",
   "execution_count": 28,
   "id": "7fc8d374",
   "metadata": {},
   "outputs": [
    {
     "data": {
      "text/plain": [
       "[1, 1, 2, 3, 4, 5, 6, 7]"
      ]
     },
     "execution_count": 28,
     "metadata": {},
     "output_type": "execute_result"
    }
   ],
   "source": [
    "a.extend([5,6,7])\n",
    "a"
   ]
  },
  {
   "cell_type": "code",
   "execution_count": 29,
   "id": "ebcbb032",
   "metadata": {},
   "outputs": [
    {
     "data": {
      "text/plain": [
       "[1, 3, 4, 5, 6, 7]"
      ]
     },
     "execution_count": 29,
     "metadata": {},
     "output_type": "execute_result"
    }
   ],
   "source": [
    "a = [1,2,3,4,5,6,7]\n",
    "del a[1]\n",
    "a"
   ]
  },
  {
   "cell_type": "code",
   "execution_count": 32,
   "id": "bddb7814",
   "metadata": {},
   "outputs": [
    {
     "data": {
      "text/plain": [
       "7"
      ]
     },
     "execution_count": 32,
     "metadata": {},
     "output_type": "execute_result"
    }
   ],
   "source": [
    "a = [1,2,3,4,5,6,7]\n",
    "a.pop(1)\n",
    "a.pop()"
   ]
  },
  {
   "cell_type": "code",
   "execution_count": 34,
   "id": "7cb1440e",
   "metadata": {},
   "outputs": [
    {
     "data": {
      "text/plain": [
       "[200, 300, 400, 500]"
      ]
     },
     "execution_count": 34,
     "metadata": {},
     "output_type": "execute_result"
    }
   ],
   "source": [
    "a = [100,200,300,400,500]\n",
    "a.remove(100)\n",
    "a"
   ]
  },
  {
   "cell_type": "code",
   "execution_count": 35,
   "id": "1e23af1a",
   "metadata": {},
   "outputs": [
    {
     "data": {
      "text/plain": [
       "[1, 1, 1, 1]"
      ]
     },
     "execution_count": 35,
     "metadata": {},
     "output_type": "execute_result"
    }
   ],
   "source": [
    "a = [1,1,1,1,1]\n",
    "a.remove(1)\n",
    "a"
   ]
  },
  {
   "cell_type": "code",
   "execution_count": 36,
   "id": "70f1da53",
   "metadata": {},
   "outputs": [
    {
     "data": {
      "text/plain": [
       "[]"
      ]
     },
     "execution_count": 36,
     "metadata": {},
     "output_type": "execute_result"
    }
   ],
   "source": [
    "a = [1,2,3,4,5,6,7]\n",
    "a.clear()\n",
    "a"
   ]
  },
  {
   "cell_type": "code",
   "execution_count": 37,
   "id": "73d6a73d",
   "metadata": {},
   "outputs": [
    {
     "name": "stdout",
     "output_type": "stream",
     "text": [
      "1\n",
      "2\n",
      "3\n",
      "4\n",
      "5\n",
      "6\n",
      "7\n"
     ]
    }
   ],
   "source": [
    "a = [1,2,3,4,5,6,7]\n",
    "\n",
    "for element in a :\n",
    "    print(element)"
   ]
  },
  {
   "cell_type": "code",
   "execution_count": 38,
   "id": "63780c03",
   "metadata": {},
   "outputs": [
    {
     "name": "stdout",
     "output_type": "stream",
     "text": [
      "- 100 이상의 수 : 273\n",
      "- 100 이상의 수 : 103\n",
      "- 100 이상의 수 : 800\n"
     ]
    }
   ],
   "source": [
    "numbers = [273,103,5,32,65,9,72,800,99]\n",
    "\n",
    "for number in numbers :\n",
    "    if number >=100 :\n",
    "        print(\"- 100 이상의 수 : {}\".format(number))"
   ]
  },
  {
   "cell_type": "code",
   "execution_count": 41,
   "id": "f6936f1a",
   "metadata": {},
   "outputs": [
    {
     "name": "stdout",
     "output_type": "stream",
     "text": [
      "273는 홀수입니다\n",
      "103는 홀수입니다\n",
      "5는 홀수입니다\n",
      "32는 짝수입니다\n",
      "65는 홀수입니다\n",
      "9는 홀수입니다\n",
      "72는 짝수입니다\n",
      "800는 짝수입니다\n",
      "99는 홀수입니다\n"
     ]
    }
   ],
   "source": [
    "numbers = [273,103,5,32,65,9,72,800,99]\n",
    "\n",
    "for number in numbers :\n",
    "    if number % 2 ==0:\n",
    "        print(\"{}는 짝수입니다\".format(number))\n",
    "    else :\n",
    "        print(\"{}는 홀수입니다\".format(number))"
   ]
  },
  {
   "cell_type": "code",
   "execution_count": 42,
   "id": "dcbd13a4",
   "metadata": {},
   "outputs": [
    {
     "name": "stdout",
     "output_type": "stream",
     "text": [
      "273sms 3 자리수입니다.\n",
      "103sms 3 자리수입니다.\n",
      "5sms 1 자리수입니다.\n",
      "32sms 2 자리수입니다.\n",
      "65sms 2 자리수입니다.\n",
      "9sms 1 자리수입니다.\n",
      "72sms 2 자리수입니다.\n",
      "800sms 3 자리수입니다.\n",
      "99sms 2 자리수입니다.\n"
     ]
    }
   ],
   "source": [
    "numbers = [273,103,5,32,65,9,72,800,99]\n",
    "\n",
    "for number in numbers :\n",
    "    print(\"{}는 {} 자리수입니다.\".format(number,len(str(number))))"
   ]
  },
  {
   "cell_type": "code",
   "execution_count": 43,
   "id": "02a0e856",
   "metadata": {},
   "outputs": [
    {
     "name": "stdout",
     "output_type": "stream",
     "text": [
      "1\n",
      "2\n",
      "3\n",
      "4\n",
      "5\n",
      "6\n",
      "7\n",
      "8\n",
      "9\n"
     ]
    }
   ],
   "source": [
    "list_of_list = [\n",
    "    [1,2,3],\n",
    "    [4,5,6,7],\n",
    "    [8,9]\n",
    "]\n",
    "\n",
    "for a in list_of_list:\n",
    "    #[1,2,3] > [4,5,6,7] > [8,9]\n",
    "    for b in a:\n",
    "        # 1,2,3 // 4,5,6,7 // 8,9 한번 더 반복\n",
    "        print(b)\n",
    "    "
   ]
  },
  {
   "cell_type": "code",
   "execution_count": null,
   "id": "a241aa48",
   "metadata": {},
   "outputs": [],
   "source": []
  },
  {
   "cell_type": "code",
   "execution_count": null,
   "id": "5ca07dc9",
   "metadata": {},
   "outputs": [],
   "source": []
  },
  {
   "cell_type": "code",
   "execution_count": null,
   "id": "a001c4e5",
   "metadata": {},
   "outputs": [],
   "source": []
  },
  {
   "cell_type": "code",
   "execution_count": null,
   "id": "2bd0541f",
   "metadata": {},
   "outputs": [],
   "source": []
  },
  {
   "cell_type": "code",
   "execution_count": null,
   "id": "58de20a8",
   "metadata": {},
   "outputs": [],
   "source": []
  }
 ],
 "metadata": {
  "kernelspec": {
   "display_name": "Python 3 (ipykernel)",
   "language": "python",
   "name": "python3"
  },
  "language_info": {
   "codemirror_mode": {
    "name": "ipython",
    "version": 3
   },
   "file_extension": ".py",
   "mimetype": "text/x-python",
   "name": "python",
   "nbconvert_exporter": "python",
   "pygments_lexer": "ipython3",
   "version": "3.9.7"
  }
 },
 "nbformat": 4,
 "nbformat_minor": 5
}
