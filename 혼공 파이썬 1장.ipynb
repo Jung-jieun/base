{
 "cells": [
  {
   "cell_type": "markdown",
   "id": "63c54d0c",
   "metadata": {},
   "source": [
    "# 1장  "
   ]
  },
  {
   "cell_type": "markdown",
   "id": "1ed35882",
   "metadata": {},
   "source": [
    "**표현식과 문장**"
   ]
  },
  {
   "cell_type": "code",
   "execution_count": 9,
   "id": "ccecdc7d",
   "metadata": {},
   "outputs": [
    {
     "data": {
      "text/plain": [
       "283"
      ]
     },
     "execution_count": 9,
     "metadata": {},
     "output_type": "execute_result"
    }
   ],
   "source": [
    "273+10"
   ]
  },
  {
   "cell_type": "code",
   "execution_count": 11,
   "id": "aad0360a",
   "metadata": {},
   "outputs": [
    {
     "data": {
      "text/plain": [
       "'안녕하세요'"
      ]
     },
     "execution_count": 11,
     "metadata": {},
     "output_type": "execute_result"
    }
   ],
   "source": [
    "\"안녕하세요\""
   ]
  },
  {
   "cell_type": "markdown",
   "id": "fb36644b",
   "metadata": {},
   "source": [
    "**식별자**  \n",
    "  \n",
    "캐멀케이스 : GetData -> 100% 클래스  \n",
    "  \n",
    " 스네이크케이스\n",
    "- print() -> 함수\n",
    "- pi -> 변수"
   ]
  },
  {
   "cell_type": "code",
   "execution_count": 14,
   "id": "0b42255b",
   "metadata": {},
   "outputs": [
    {
     "name": "stdout",
     "output_type": "stream",
     "text": [
      "1 2 3 4 5 6\n"
     ]
    }
   ],
   "source": [
    "print(1,2,3,4,5,6)"
   ]
  },
  {
   "cell_type": "code",
   "execution_count": 15,
   "id": "33e332a4",
   "metadata": {},
   "outputs": [
    {
     "name": "stdout",
     "output_type": "stream",
     "text": [
      "# 하나만 출력합니다.\n",
      "Hello Python Programming...!\n",
      "\n"
     ]
    }
   ],
   "source": [
    "# 하나만 출력  \n",
    "print(\"# 하나만 출력합니다.\")  \n",
    "print(\"Hello Python Programming...!\")  \n",
    "print()"
   ]
  },
  {
   "cell_type": "code",
   "execution_count": 16,
   "id": "4c61879a",
   "metadata": {},
   "outputs": [
    {
     "name": "stdout",
     "output_type": "stream",
     "text": [
      "# 여러개 출력합니다.\n",
      "10 20 30 40 50\n",
      "안녕하세요 저의 이름은\n",
      "\n"
     ]
    }
   ],
   "source": [
    "#여러개 출력  \n",
    "print(\"# 여러개 출력합니다.\")  \n",
    "print(10,20,30,40,50)  \n",
    "print(\"안녕하세요\", \"저의\", \"이름은\")  \n",
    "print()"
   ]
  },
  {
   "cell_type": "code",
   "execution_count": 17,
   "id": "7a513d40",
   "metadata": {},
   "outputs": [
    {
     "name": "stdout",
     "output_type": "stream",
     "text": [
      "# 아무것도 출력하지 않음\n",
      "--- 확인 전용선 ---\n",
      "\n"
     ]
    }
   ],
   "source": [
    "#줄바꿈  \n",
    "print(\"# 아무것도 출력하지 않음\")  \n",
    "print(\"--- 확인 전용선 ---\")\n",
    "print()"
   ]
  },
  {
   "cell_type": "code",
   "execution_count": null,
   "id": "f902095a",
   "metadata": {},
   "outputs": [],
   "source": []
  },
  {
   "cell_type": "code",
   "execution_count": null,
   "id": "ba774b6f",
   "metadata": {},
   "outputs": [],
   "source": []
  },
  {
   "cell_type": "code",
   "execution_count": null,
   "id": "40b1ec6a",
   "metadata": {},
   "outputs": [],
   "source": []
  },
  {
   "cell_type": "code",
   "execution_count": null,
   "id": "d1b41df6",
   "metadata": {},
   "outputs": [],
   "source": []
  },
  {
   "cell_type": "code",
   "execution_count": null,
   "id": "eac54470",
   "metadata": {},
   "outputs": [],
   "source": []
  },
  {
   "cell_type": "code",
   "execution_count": null,
   "id": "f991de48",
   "metadata": {},
   "outputs": [],
   "source": []
  }
 ],
 "metadata": {
  "kernelspec": {
   "display_name": "Python 3 (ipykernel)",
   "language": "python",
   "name": "python3"
  },
  "language_info": {
   "codemirror_mode": {
    "name": "ipython",
    "version": 3
   },
   "file_extension": ".py",
   "mimetype": "text/x-python",
   "name": "python",
   "nbconvert_exporter": "python",
   "pygments_lexer": "ipython3",
   "version": "3.9.7"
  }
 },
 "nbformat": 4,
 "nbformat_minor": 5
}
