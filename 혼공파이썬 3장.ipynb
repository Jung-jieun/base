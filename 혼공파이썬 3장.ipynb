{
 "cells": [
  {
   "cell_type": "markdown",
   "id": "a383a270",
   "metadata": {},
   "source": [
    "# 3장 조건문"
   ]
  },
  {
   "cell_type": "markdown",
   "id": "967375fb",
   "metadata": {},
   "source": [
    "**불 True False**"
   ]
  },
  {
   "cell_type": "code",
   "execution_count": 1,
   "id": "82bcf563",
   "metadata": {},
   "outputs": [
    {
     "name": "stdout",
     "output_type": "stream",
     "text": [
      "False\n",
      "True\n"
     ]
    }
   ],
   "source": [
    "print(10 == 100)  \n",
    "print(10 != 100) #비교연산자"
   ]
  },
  {
   "cell_type": "markdown",
   "id": "0c8ebe06",
   "metadata": {},
   "source": [
    "**if 조건문**"
   ]
  },
  {
   "cell_type": "code",
   "execution_count": 5,
   "id": "3b9ee334",
   "metadata": {},
   "outputs": [
    {
     "name": "stdout",
     "output_type": "stream",
     "text": [
      "정수 입력 : 20\n",
      "양수입니다\n"
     ]
    }
   ],
   "source": [
    "number = input(\"정수 입력 : \")  \n",
    "number = int(number)  \n",
    "if number > 0:  \n",
    "    print(\"양수입니다\")\n",
    "if number == 0:\n",
    "    print(\"0입니다\")\n",
    "if number <0 :\n",
    "    print(\"음수입니다\")"
   ]
  },
  {
   "cell_type": "code",
   "execution_count": 9,
   "id": "28c9f3e7",
   "metadata": {},
   "outputs": [
    {
     "name": "stdout",
     "output_type": "stream",
     "text": [
      "2022\n",
      "5\n",
      "23\n",
      "10\n",
      "29\n"
     ]
    }
   ],
   "source": [
    "import datetime\n",
    "now = datetime.datetime.now()\n",
    "print(now.year)\n",
    "print(now.month)\n",
    "print(now.hour)\n",
    "print(now.minute)\n",
    "print(now.second)"
   ]
  },
  {
   "cell_type": "code",
   "execution_count": 10,
   "id": "7b8ab47f",
   "metadata": {},
   "outputs": [
    {
     "name": "stdout",
     "output_type": "stream",
     "text": [
      "현재 시간은 23시로 오후입니다!\n"
     ]
    }
   ],
   "source": [
    "import datetime\n",
    "now = datetime.datetime.now()\n",
    "\n",
    "if now.hour < 12 :\n",
    "    print(\"현재 시간은 {}시로 오전입니다!\".format(now.hour))\n",
    "if now.hour >=12 : \n",
    "    print(\"현재 시간은 {}시로 오후입니다!\".format(now.hour))"
   ]
  },
  {
   "cell_type": "code",
   "execution_count": 15,
   "id": "90a8562b",
   "metadata": {},
   "outputs": [
    {
     "name": "stdout",
     "output_type": "stream",
     "text": [
      "정수를 입력해주세요 : 7\n",
      "홀수입니다\n"
     ]
    }
   ],
   "source": [
    "number = input(\"정수를 입력해주세요 : \")\n",
    "\n",
    "last_character = number[-1]\n",
    "last_character = int(last_character)\n",
    "\n",
    "if last_character == 0 or last_character == 2 or last_character == 4  or last_character == 6 or last_character == 8 :\n",
    "        print(\"짝수입니다\")\n",
    "if last_character == 1 or last_character == 3 or last_character == 5  or last_character == 7 or last_character == 9 :\n",
    "        print(\"홀수입니다\")\n",
    "        \n",
    "#if last_character in \"13579\" : \n",
    "    #print(\"홀수입니다\")\n"
   ]
  },
  {
   "cell_type": "markdown",
   "id": "76b6b763",
   "metadata": {},
   "source": [
    "**elif 구문**"
   ]
  },
  {
   "cell_type": "code",
   "execution_count": 17,
   "id": "c8d47e7c",
   "metadata": {},
   "outputs": [
    {
     "name": "stdout",
     "output_type": "stream",
     "text": [
      "이번 달은 5월로 봄입니다!\n"
     ]
    }
   ],
   "source": [
    "import datetime\n",
    "now = datetime.datetime.now()\n",
    "\n",
    "if 3 <= now.month <= 5 :\n",
    "    print(\"이번 달은 {}월로 봄입니다!\".format(now.month))\n",
    "elif 6 <= now.month <= 8 :\n",
    "    print(\"이번 달은 {}월로 여름입니다!\".format(now.month))\n",
    "elif 9 <= now.month <= 11:\n",
    "    print(\"이번 달은 {}월로 가을입니다!\".format(now.month))\n",
    "else:\n",
    "    print(\"이번 달은 {}월로 겨울입니다!\".format(now.month))"
   ]
  },
  {
   "cell_type": "code",
   "execution_count": null,
   "id": "a89c30f9",
   "metadata": {},
   "outputs": [],
   "source": []
  },
  {
   "cell_type": "code",
   "execution_count": null,
   "id": "31946144",
   "metadata": {},
   "outputs": [],
   "source": []
  },
  {
   "cell_type": "code",
   "execution_count": null,
   "id": "84adcb88",
   "metadata": {},
   "outputs": [],
   "source": []
  },
  {
   "cell_type": "code",
   "execution_count": null,
   "id": "dc0eba0e",
   "metadata": {},
   "outputs": [],
   "source": []
  },
  {
   "cell_type": "code",
   "execution_count": null,
   "id": "8b91ce52",
   "metadata": {},
   "outputs": [],
   "source": []
  },
  {
   "cell_type": "code",
   "execution_count": null,
   "id": "d5e3e8c1",
   "metadata": {},
   "outputs": [],
   "source": []
  },
  {
   "cell_type": "code",
   "execution_count": null,
   "id": "62c57300",
   "metadata": {},
   "outputs": [],
   "source": []
  },
  {
   "cell_type": "code",
   "execution_count": null,
   "id": "036306c0",
   "metadata": {},
   "outputs": [],
   "source": []
  },
  {
   "cell_type": "code",
   "execution_count": null,
   "id": "89c4e8bf",
   "metadata": {},
   "outputs": [],
   "source": []
  },
  {
   "cell_type": "code",
   "execution_count": null,
   "id": "0a5a6982",
   "metadata": {},
   "outputs": [],
   "source": []
  }
 ],
 "metadata": {
  "kernelspec": {
   "display_name": "Python 3 (ipykernel)",
   "language": "python",
   "name": "python3"
  },
  "language_info": {
   "codemirror_mode": {
    "name": "ipython",
    "version": 3
   },
   "file_extension": ".py",
   "mimetype": "text/x-python",
   "name": "python",
   "nbconvert_exporter": "python",
   "pygments_lexer": "ipython3",
   "version": "3.9.7"
  }
 },
 "nbformat": 4,
 "nbformat_minor": 5
}
