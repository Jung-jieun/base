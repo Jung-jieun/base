{
 "cells": [
  {
   "cell_type": "markdown",
   "id": "a3e44932",
   "metadata": {},
   "source": [
    " # 6장 예외처리"
   ]
  },
  {
   "cell_type": "code",
   "execution_count": null,
   "id": "7b5d3dde",
   "metadata": {},
   "outputs": [],
   "source": [
    "#구문 오류 : 코드에 문제\n",
    "# 예외(런타임 오류) : 코드 자체 문법적인 오류x 실행과 관련된 문제"
   ]
  },
  {
   "cell_type": "code",
   "execution_count": null,
   "id": "8ddab978",
   "metadata": {},
   "outputs": [],
   "source": [
    "print(\"실행되었습니다)"
   ]
  },
  {
   "cell_type": "code",
   "execution_count": null,
   "id": "cfa3f5a0",
   "metadata": {},
   "outputs": [],
   "source": [
    "print(\"실행디었습니다\")\n",
    "list_a = [1,2,3]\n",
    "print(list_a[100])"
   ]
  },
  {
   "cell_type": "code",
   "execution_count": null,
   "id": "119ad82b",
   "metadata": {},
   "outputs": [],
   "source": [
    "try : \n",
    "    print(float(input(\"> 숫자를 입력해주세요:\"))**2) #사용자로부터 문자열을 입력 받고 숫자로 변환하고 제곱해서 출력하는 코드\n",
    "    #예외가 발생할 수 있는 가능성이 있는 코드\n",
    "except : \n",
    "    print(\"숫자를 입력해주세요\")\n",
    "    #예외가 발생했을 때 실행할 코드"
   ]
  },
  {
   "cell_type": "code",
   "execution_count": null,
   "id": "d433ac5f",
   "metadata": {},
   "outputs": [],
   "source": [
    "print(float(input(\"> 숫자를 입력해주세요:\"))**2)"
   ]
  },
  {
   "cell_type": "code",
   "execution_count": null,
   "id": "59e5b357",
   "metadata": {},
   "outputs": [],
   "source": [
    "while True:\n",
    "    try : \n",
    "        print(float(input(\"> 숫자를 입력해주세요:\"))**2) #사용자로부터 문자열을 입력 받고 숫자로 변환하고 제곱해서 출력하는 코드\n",
    "    #예외가 발생할 수 있는 가능성이 있는 코드\n",
    "        break\n",
    "    except : \n",
    "        print(\"숫자를 입력해주세요\")\n",
    "    #예외가 발생했을 때 실행할 코드"
   ]
  },
  {
   "cell_type": "code",
   "execution_count": null,
   "id": "bf15fe4e",
   "metadata": {},
   "outputs": [],
   "source": [
    "#변수선언\n",
    "list_input_a = [\"52\",\"273\",\"32\",\"스파이\",\"103\"]\n",
    "\n",
    "#반복을 적용\n",
    "list_number = []\n",
    "for item in list_input_a:\n",
    "    #숫자로 변환해서 리스트에 추가\n",
    "    try:\n",
    "        float(item)#예외가 발생하면 알아서 다음으로 진행\n",
    "        list_number.append(item) #예외없이 통과하면 리스트에 추가\n",
    "    except:\n",
    "        pass:\n",
    "\n",
    "#출력\n",
    "print(\"{} 내부에 있는 숫자는\".format(list_input_a))\n",
    "print(\"{} 입니다.\".format(list_number))"
   ]
  },
  {
   "cell_type": "code",
   "execution_count": null,
   "id": "7eb7eafa",
   "metadata": {},
   "outputs": [],
   "source": [
    "finally : 옵션[필요에 따라서 사용]\n",
    "    #무조건적으로 실행하는 코드"
   ]
  },
  {
   "cell_type": "code",
   "execution_count": 1,
   "id": "4163928f",
   "metadata": {},
   "outputs": [
    {
     "name": "stdout",
     "output_type": "stream",
     "text": [
      "> 정수 입력46\n",
      "입력 값은 46입니다.\n",
      "무조건적으로 실행됩니다.\n"
     ]
    }
   ],
   "source": [
    "try:\n",
    "    number = int(input(\"> 정수 입력\"))\n",
    "    print(\"입력 값은 {}입니다.\".format(number))\n",
    "except:\n",
    "    #예외가 발생했을 경우 실행할 코드\n",
    "    print(\"예외가 발생했습니다.\")\n",
    "finally:\n",
    "    #무조건적으로 실행하는 코드\n",
    "    print(\"무조건적으로 실행됩니다.\")"
   ]
  },
  {
   "cell_type": "code",
   "execution_count": 3,
   "id": "16867dc0",
   "metadata": {},
   "outputs": [
    {
     "name": "stdout",
     "output_type": "stream",
     "text": [
      "test() 함수의 첫 줄입니다.\n",
      "try 구문이 실행되었습니다.\n",
      "finally 구문이 실행되었습니다.\n",
      "test() 함수의 마지막 줄입니다.\n"
     ]
    }
   ],
   "source": [
    "#test() 함수를 선언합니다.\n",
    "def test():\n",
    "    print(\"test() 함수의 첫 줄입니다.\")\n",
    "    try:\n",
    "        print(\"try 구문이 실행되었습니다.\")\n",
    "    except:\n",
    "        print(\"except 구문이 실행되었습니다.\")\n",
    "    finally:\n",
    "        print(\"finally 구문이 실행되었습니다.\")\n",
    "    print(\"test() 함수의 마지막 줄입니다.\")\n",
    "#test 함수 호출\n",
    "test()"
   ]
  },
  {
   "cell_type": "code",
   "execution_count": 4,
   "id": "230f84ee",
   "metadata": {},
   "outputs": [
    {
     "name": "stdout",
     "output_type": "stream",
     "text": [
      "test() 함수의 첫 줄입니다.\n",
      "try 구문이 실행되었습니다.\n",
      "except 구문이 실행되었습니다.\n",
      "finally 구문이 실행되었습니다.\n",
      "test() 함수의 마지막 줄입니다.\n"
     ]
    }
   ],
   "source": [
    "#test() 함수를 선언합니다.\n",
    "def test():\n",
    "    print(\"test() 함수의 첫 줄입니다.\")\n",
    "    try:\n",
    "        print(\"try 구문이 실행되었습니다.\")\n",
    "        dqd.dqe()\n",
    "        print(\"try 구문의 return 키워드 뒤입니다\")\n",
    "    except:\n",
    "        print(\"except 구문이 실행되었습니다.\")\n",
    "    finally:\n",
    "        print(\"finally 구문이 실행되었습니다.\")\n",
    "    print(\"test() 함수의 마지막 줄입니다.\")\n",
    "#test 함수 호출\n",
    "test()"
   ]
  },
  {
   "cell_type": "code",
   "execution_count": 6,
   "id": "3e210c51",
   "metadata": {},
   "outputs": [
    {
     "name": "stdout",
     "output_type": "stream",
     "text": [
      "정수 입력(0~4까지 입력해주세요)>4\n",
      "100\n"
     ]
    }
   ],
   "source": [
    "try : \n",
    "    a = [273,103,52,57,100]\n",
    "    number = int(input(\"정수 입력(0~4까지 입력해주세요)>\"))\n",
    "    print(a[number])\n",
    "except ValueError as exception:\n",
    "    print(\"값에 문제가 있습니다.\")\n",
    "except IndexError as exception:\n",
    "    print(\"0~4까지 입력해주세요.\")\n",
    "except Exception as exception: #!!\n",
    "    print(\"알 수 없는 예외가 발생했습니다.\")"
   ]
  },
  {
   "cell_type": "code",
   "execution_count": null,
   "id": "8be3fa9f",
   "metadata": {},
   "outputs": [],
   "source": [
    "# raise : 예외객체\n",
    "raise Exception(\"안녕하세요\")\n",
    "raise"
   ]
  },
  {
   "cell_type": "code",
   "execution_count": null,
   "id": "955f2ab4",
   "metadata": {},
   "outputs": [],
   "source": []
  },
  {
   "cell_type": "code",
   "execution_count": null,
   "id": "75cfd936",
   "metadata": {},
   "outputs": [],
   "source": []
  },
  {
   "cell_type": "code",
   "execution_count": null,
   "id": "0d94dce3",
   "metadata": {},
   "outputs": [],
   "source": []
  },
  {
   "cell_type": "code",
   "execution_count": null,
   "id": "fded7601",
   "metadata": {},
   "outputs": [],
   "source": []
  },
  {
   "cell_type": "code",
   "execution_count": null,
   "id": "f919e3f6",
   "metadata": {},
   "outputs": [],
   "source": []
  },
  {
   "cell_type": "code",
   "execution_count": null,
   "id": "2a74e0c0",
   "metadata": {},
   "outputs": [],
   "source": []
  },
  {
   "cell_type": "code",
   "execution_count": null,
   "id": "e8871d4c",
   "metadata": {},
   "outputs": [],
   "source": []
  },
  {
   "cell_type": "code",
   "execution_count": null,
   "id": "1b377611",
   "metadata": {},
   "outputs": [],
   "source": []
  },
  {
   "cell_type": "code",
   "execution_count": null,
   "id": "703fd3b3",
   "metadata": {},
   "outputs": [],
   "source": []
  }
 ],
 "metadata": {
  "kernelspec": {
   "display_name": "Python 3 (ipykernel)",
   "language": "python",
   "name": "python3"
  },
  "language_info": {
   "codemirror_mode": {
    "name": "ipython",
    "version": 3
   },
   "file_extension": ".py",
   "mimetype": "text/x-python",
   "name": "python",
   "nbconvert_exporter": "python",
   "pygments_lexer": "ipython3",
   "version": "3.9.7"
  }
 },
 "nbformat": 4,
 "nbformat_minor": 5
}
