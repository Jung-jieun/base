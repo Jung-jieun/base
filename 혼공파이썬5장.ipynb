{
 "cells": [
  {
   "cell_type": "markdown",
   "id": "ac8d1aa4",
   "metadata": {},
   "source": [
    "# 5장 함수"
   ]
  },
  {
   "cell_type": "code",
   "execution_count": null,
   "id": "c056d376",
   "metadata": {},
   "outputs": [],
   "source": [
    "#함수선언\n",
    "def 함수이름(매개변수1, 매개변수2):\n",
    "    print(\"안녕하세요\" +str(매개변수1)) #2\n",
    "    print(\"안녕하세요\" +str(매개변수2)) #3\n",
    "    return 매개변수1+매개변수2\n",
    "    \n",
    "#함수호출\n",
    "함수이름() #1"
   ]
  },
  {
   "cell_type": "code",
   "execution_count": 3,
   "id": "c0409c37",
   "metadata": {},
   "outputs": [
    {
     "name": "stdout",
     "output_type": "stream",
     "text": [
      "안녕하세요\n",
      "안녕하세요\n",
      "안녕하세요\n",
      "안녕하세요\n",
      "안녕하세요\n"
     ]
    }
   ],
   "source": [
    "def print_n_times(value, n):\n",
    "    for i in range(n):\n",
    "        print(value)\n",
    "    \n",
    "print_n_times(\"안녕하세요\",5)"
   ]
  },
  {
   "cell_type": "code",
   "execution_count": 4,
   "id": "bf81e24b",
   "metadata": {},
   "outputs": [
    {
     "name": "stdout",
     "output_type": "stream",
     "text": [
      "0\n",
      "1\n",
      "(2, 3, 4, 5, 6, 7, 8, 9)\n"
     ]
    }
   ],
   "source": [
    "def 함수이름(매개변수1, 매개변수2, *가변매개변수):\n",
    "    print(매개변수1)\n",
    "    print(매개변수2)\n",
    "    print(가변매개변수)\n",
    "    \n",
    "함수이름(0,1,2,3,4,5,6,7,8,9)"
   ]
  },
  {
   "cell_type": "code",
   "execution_count": 5,
   "id": "95b42b00",
   "metadata": {},
   "outputs": [
    {
     "name": "stdout",
     "output_type": "stream",
     "text": [
      "안녕하세요\n",
      "안녕하세요\n",
      "안녕하세요\n",
      "안녕하세요\n",
      "안녕하세요\n"
     ]
    }
   ],
   "source": [
    "def print_n_times(value, n=5): #기본매개변수로 5가 들어감\n",
    "    for i in range(n):\n",
    "        print(value)\n",
    "    \n",
    "print_n_times(\"안녕하세요\") "
   ]
  },
  {
   "cell_type": "code",
   "execution_count": 7,
   "id": "62bc0f4c",
   "metadata": {},
   "outputs": [
    {
     "name": "stdout",
     "output_type": "stream",
     "text": [
      "0 1\n",
      "(2, 3, 4, 5, 6, 7, 8, 9, 10)\n",
      "11 20\n"
     ]
    }
   ],
   "source": [
    "def function(일반매개변수A, 일반매개변수B, *가변매개변수, 기본매개변수A=10, 기본매개변수B=20):\n",
    "    print(일반매개변수A, 일반매개변수B)\n",
    "    print(가변매개변수)\n",
    "    print(기본매개변수A, 기본매개변수B)\n",
    "    \n",
    "function(0,1,2,3,4,5,6,7,8,9,10, 기본매개변수A=11)"
   ]
  },
  {
   "cell_type": "code",
   "execution_count": 9,
   "id": "743424fb",
   "metadata": {},
   "outputs": [
    {
     "name": "stdout",
     "output_type": "stream",
     "text": [
      "A\n",
      "B\n",
      "100\n"
     ]
    }
   ],
   "source": [
    "def function():\n",
    "    print(\"A\")\n",
    "    print(\"B\")\n",
    "    return 100\n",
    "\n",
    "print(function())"
   ]
  },
  {
   "cell_type": "code",
   "execution_count": 11,
   "id": "6331dc90",
   "metadata": {},
   "outputs": [
    {
     "name": "stdout",
     "output_type": "stream",
     "text": [
      "5050\n",
      "3825\n"
     ]
    }
   ],
   "source": [
    "#start~end까지 있는 모든 정수를 더하는 함수\n",
    "def sum_all(start, end):\n",
    "    변수 = 0\n",
    "    for i in range(start, end+1):\n",
    "        변수+=i\n",
    "    return 변수\n",
    "\n",
    "print(sum_all(1,100))\n",
    "print(sum_all(50,100))"
   ]
  },
  {
   "cell_type": "markdown",
   "id": "2a3158c1",
   "metadata": {},
   "source": [
    "# 재귀함수와 메모화"
   ]
  },
  {
   "cell_type": "code",
   "execution_count": 14,
   "id": "4c002e7a",
   "metadata": {},
   "outputs": [
    {
     "name": "stdout",
     "output_type": "stream",
     "text": [
      "3628800\n"
     ]
    }
   ],
   "source": [
    "def factorial_1(n):\n",
    "    변수=1\n",
    "    for i in range(1, n+1):\n",
    "        변수 *=i\n",
    "    return 변수\n",
    "print(factorial_1(10))"
   ]
  },
  {
   "cell_type": "code",
   "execution_count": 15,
   "id": "a76e794e",
   "metadata": {},
   "outputs": [
    {
     "name": "stdout",
     "output_type": "stream",
     "text": [
      "6\n"
     ]
    }
   ],
   "source": [
    "def factorial_2(n):\n",
    "    if n==0:\n",
    "        return 1\n",
    "    else:\n",
    "        return n * factorial_2(n-1)\n",
    "print(factorial_2(3))"
   ]
  },
  {
   "cell_type": "code",
   "execution_count": 18,
   "id": "92c73fbe",
   "metadata": {},
   "outputs": [
    {
     "name": "stdout",
     "output_type": "stream",
     "text": [
      "1\n",
      "1\n",
      "2\n",
      "3\n"
     ]
    }
   ],
   "source": [
    "def f(n):\n",
    "    if n==1 or n==2:\n",
    "        return 1\n",
    "    else:\n",
    "            return f(n-1)+f(n-2)\n",
    "print(f(1))\n",
    "print(f(2))\n",
    "print(f(3))\n",
    "print(f(4))"
   ]
  },
  {
   "cell_type": "code",
   "execution_count": 19,
   "id": "8c12fa95",
   "metadata": {},
   "outputs": [
    {
     "name": "stdout",
     "output_type": "stream",
     "text": [
      "9969216677189303386214405760200\n"
     ]
    }
   ],
   "source": [
    "메모 = {1:1, 2:1}\n",
    "def f(n):\n",
    "    if n in 메모:\n",
    "        return 메모[n]\n",
    "    else:\n",
    "        output = f(n-1)+f(n-2)\n",
    "        메모[n]=output\n",
    "        return output\n",
    "print(f(150))"
   ]
  },
  {
   "cell_type": "code",
   "execution_count": 21,
   "id": "9e296f57",
   "metadata": {},
   "outputs": [
    {
     "name": "stdout",
     "output_type": "stream",
     "text": [
      "원본: [[1, 2, 3], [4, [5, 6], 7, [8, 9]]]\n",
      "변환: [1, 2, 3, 4, 5, 6, 7, 8, 9]\n"
     ]
    }
   ],
   "source": [
    "def flatten(data):\n",
    "    output = []\n",
    "    for item in data:\n",
    "        if type(item)==list:\n",
    "            output+=flatten(item)\n",
    "        else:\n",
    "            output+=[item]\n",
    "    return output\n",
    "example = [[1,2,3],[4,[5,6],7,[8,9]]]\n",
    "print(\"원본:\", example)\n",
    "print(\"변환:\", flatten(example))"
   ]
  },
  {
   "cell_type": "markdown",
   "id": "e4216691",
   "metadata": {},
   "source": [
    "# 튜플"
   ]
  },
  {
   "cell_type": "code",
   "execution_count": 23,
   "id": "a05aaa0b",
   "metadata": {},
   "outputs": [
    {
     "name": "stdout",
     "output_type": "stream",
     "text": [
      "(2, 17)\n",
      "<class 'tuple'>\n"
     ]
    }
   ],
   "source": [
    "#튜플은 소괄호 사용\n",
    "#튜플은 값을 수정할 수 없음\n",
    "a, b =97, 40\n",
    "print(divmod(a,b))\n",
    "print(type(divmod(a,b)))"
   ]
  },
  {
   "cell_type": "code",
   "execution_count": 2,
   "id": "af9cf425",
   "metadata": {},
   "outputs": [
    {
     "name": "stdout",
     "output_type": "stream",
     "text": [
      "안녕하세요 0\n",
      "안녕하세요 1\n",
      "안녕하세요 2\n",
      "안녕하세요 3\n",
      "안녕하세요 4\n",
      "안녕하세요 5\n",
      "안녕하세요 6\n",
      "안녕하세요 7\n",
      "안녕하세요 8\n",
      "안녕하세요 9\n"
     ]
    }
   ],
   "source": [
    "def call_10_times(func):\n",
    "    for i in range(10):\n",
    "        #콜백합수(callback)\n",
    "        func(i)\n",
    "        \n",
    "def print_hello(number):\n",
    "    print(\"안녕하세요\",number)\n",
    "    \n",
    "call_10_times(print_hello)"
   ]
  },
  {
   "cell_type": "code",
   "execution_count": 3,
   "id": "4f99368c",
   "metadata": {},
   "outputs": [
    {
     "name": "stdout",
     "output_type": "stream",
     "text": [
      "안녕하세요 0\n",
      "안녕하세요 1\n",
      "안녕하세요 2\n",
      "안녕하세요 3\n",
      "안녕하세요 4\n",
      "안녕하세요 5\n",
      "안녕하세요 6\n",
      "안녕하세요 7\n",
      "안녕하세요 8\n",
      "안녕하세요 9\n"
     ]
    }
   ],
   "source": [
    "def call_10_times(func):\n",
    "    for i in range(10):\n",
    "        #콜백합수(callback)\n",
    "        func(i)\n",
    "        \n",
    "    \n",
    "call_10_times(lambda number:print(\"안녕하세요\",number))"
   ]
  },
  {
   "cell_type": "code",
   "execution_count": 25,
   "id": "a8696eb5",
   "metadata": {},
   "outputs": [
    {
     "name": "stdout",
     "output_type": "stream",
     "text": [
      "[0, 2, 4, 6, 8, 10, 12, 14, 16, 18, 20, 22, 24, 26, 28, 30, 32, 34, 36, 38, 40, 42, 44, 46, 48, 50, 52, 54, 56, 58, 60, 62, 64, 66, 68, 70, 72, 74, 76, 78, 80, 82, 84, 86, 88, 90, 92, 94, 96, 98]\n"
     ]
    }
   ],
   "source": [
    "def 짝수만(number):\n",
    "    return number %2 ==0\n",
    "\n",
    "a = list(range(100))\n",
    "b= filter(짝수만, a)\n",
    "print(list(b))"
   ]
  },
  {
   "cell_type": "code",
   "execution_count": 26,
   "id": "bf995521",
   "metadata": {},
   "outputs": [
    {
     "name": "stdout",
     "output_type": "stream",
     "text": [
      "[0, 2, 4, 6, 8, 10, 12, 14, 16, 18, 20, 22, 24, 26, 28, 30, 32, 34, 36, 38, 40, 42, 44, 46, 48, 50, 52, 54, 56, 58, 60, 62, 64, 66, 68, 70, 72, 74, 76, 78, 80, 82, 84, 86, 88, 90, 92, 94, 96, 98]\n"
     ]
    }
   ],
   "source": [
    "a = list(range(100))\n",
    "b= filter(lambda number:number %2 ==0,a)\n",
    "print(list(b))"
   ]
  },
  {
   "cell_type": "code",
   "execution_count": 4,
   "id": "8d948f83",
   "metadata": {},
   "outputs": [
    {
     "name": "stdout",
     "output_type": "stream",
     "text": [
      "[0, 1, 4, 9, 16, 25, 36, 49, 64, 81, 100, 121, 144, 169, 196, 225, 256, 289, 324, 361, 400, 441, 484, 529, 576, 625, 676, 729, 784, 841, 900, 961, 1024, 1089, 1156, 1225, 1296, 1369, 1444, 1521, 1600, 1681, 1764, 1849, 1936, 2025, 2116, 2209, 2304, 2401, 2500, 2601, 2704, 2809, 2916, 3025, 3136, 3249, 3364, 3481, 3600, 3721, 3844, 3969, 4096, 4225, 4356, 4489, 4624, 4761, 4900, 5041, 5184, 5329, 5476, 5625, 5776, 5929, 6084, 6241, 6400, 6561, 6724, 6889, 7056, 7225, 7396, 7569, 7744, 7921, 8100, 8281, 8464, 8649, 8836, 9025, 9216, 9409, 9604, 9801]\n"
     ]
    }
   ],
   "source": [
    "def 제곱(number):\n",
    "    return number*number\n",
    "a=list(range(100))\n",
    "print(list(map(제곱,a)))"
   ]
  },
  {
   "cell_type": "code",
   "execution_count": 5,
   "id": "3b1f50da",
   "metadata": {},
   "outputs": [
    {
     "name": "stdout",
     "output_type": "stream",
     "text": [
      "[0, 1, 4, 9, 16, 25, 36, 49, 64, 81, 100, 121, 144, 169, 196, 225, 256, 289, 324, 361, 400, 441, 484, 529, 576, 625, 676, 729, 784, 841, 900, 961, 1024, 1089, 1156, 1225, 1296, 1369, 1444, 1521, 1600, 1681, 1764, 1849, 1936, 2025, 2116, 2209, 2304, 2401, 2500, 2601, 2704, 2809, 2916, 3025, 3136, 3249, 3364, 3481, 3600, 3721, 3844, 3969, 4096, 4225, 4356, 4489, 4624, 4761, 4900, 5041, 5184, 5329, 5476, 5625, 5776, 5929, 6084, 6241, 6400, 6561, 6724, 6889, 7056, 7225, 7396, 7569, 7744, 7921, 8100, 8281, 8464, 8649, 8836, 9025, 9216, 9409, 9604, 9801]\n",
      "[0, 4, 16, 36, 64, 100, 144, 196, 256, 324, 400, 484, 576, 676, 784, 900, 1024, 1156, 1296, 1444, 1600, 1764, 1936, 2116, 2304, 2500, 2704, 2916, 3136, 3364, 3600, 3844, 4096, 4356, 4624, 4900, 5184, 5476, 5776, 6084, 6400, 6724, 7056, 7396, 7744, 8100, 8464, 8836, 9216, 9604]\n"
     ]
    }
   ],
   "source": [
    "a=list(range(100))\n",
    "print(list(map(lambda number:number*number,a)))\n",
    "print([i*i for i in a if i %2==0])"
   ]
  },
  {
   "cell_type": "markdown",
   "id": "41041f5a",
   "metadata": {},
   "source": [
    "# 파일처리"
   ]
  },
  {
   "cell_type": "code",
   "execution_count": null,
   "id": "e0110b81",
   "metadata": {},
   "outputs": [],
   "source": [
    "-텍스트 파일:텍스트에디터 열 수 있어\n",
    "-바이너리 파일: 텍스트에디터 열 수 없어(이미지, 동영상, 워드, 엑셀, pdf 등)\n",
    "    \n",
    "-쓰기\n",
    "    -새로(write): w\n",
    "    -있는 파일 뒤에(append):a\n",
    "-읽기(read):r"
   ]
  },
  {
   "cell_type": "code",
   "execution_count": 6,
   "id": "2672af40",
   "metadata": {},
   "outputs": [],
   "source": [
    "file=open(\"test.txt\",\"w\")\n",
    "file.write(\"안녕하세요\")\n",
    "\n",
    "file.close()"
   ]
  },
  {
   "cell_type": "code",
   "execution_count": 7,
   "id": "74a26b41",
   "metadata": {},
   "outputs": [
    {
     "name": "stdout",
     "output_type": "stream",
     "text": [
      "안녕하세요\n"
     ]
    }
   ],
   "source": [
    "file=open(\"test.txt\",\"r\")\n",
    "print(file.read())\n",
    "file.close()"
   ]
  },
  {
   "cell_type": "code",
   "execution_count": 9,
   "id": "f91c15be",
   "metadata": {},
   "outputs": [],
   "source": [
    "with open(\"test.txt\",\"a\") as file:\n",
    "    file.write(\"안녕하세요\")\n",
    "file.close()"
   ]
  },
  {
   "cell_type": "code",
   "execution_count": null,
   "id": "e01b4b49",
   "metadata": {},
   "outputs": [],
   "source": [
    "#제너레이터\n",
    "이터레이터를 직접 만들 때 사용하는 구문\n",
    "함수 내부에 yield 라는 키워드가 포함되면 해당 함수는 제너레이터가 됨"
   ]
  },
  {
   "cell_type": "code",
   "execution_count": 14,
   "id": "71dfcf80",
   "metadata": {},
   "outputs": [
    {
     "name": "stdout",
     "output_type": "stream",
     "text": [
      "<generator object 함수 at 0x000001F328666120>\n"
     ]
    }
   ],
   "source": [
    "def 함수():\n",
    "    print(\"출력A\")\n",
    "    print(\"출력B\")\n",
    "    yield #출력되지 않음\n",
    "\n",
    "print(함수())"
   ]
  },
  {
   "cell_type": "code",
   "execution_count": 17,
   "id": "6558d8aa",
   "metadata": {},
   "outputs": [
    {
     "name": "stdout",
     "output_type": "stream",
     "text": [
      "출력A\n",
      "출력B\n"
     ]
    },
    {
     "data": {
      "text/plain": [
       "100"
      ]
     },
     "execution_count": 17,
     "metadata": {},
     "output_type": "execute_result"
    }
   ],
   "source": [
    "def 함수():\n",
    "    print(\"출력A\")\n",
    "    print(\"출력B\")\n",
    "    yield 100\n",
    "    \n",
    "제너레이터 = 함수()\n",
    "\n",
    "next(제너레이터)"
   ]
  },
  {
   "cell_type": "code",
   "execution_count": 19,
   "id": "344b950a",
   "metadata": {},
   "outputs": [
    {
     "name": "stdout",
     "output_type": "stream",
     "text": [
      "출력A\n"
     ]
    },
    {
     "data": {
      "text/plain": [
       "100"
      ]
     },
     "execution_count": 19,
     "metadata": {},
     "output_type": "execute_result"
    }
   ],
   "source": [
    "def 함수():\n",
    "    print(\"출력A\")\n",
    "    yield 100 #멈춤\n",
    "    print(\"출력B\")\n",
    "    yield 200\n",
    "    print(\"출력C\")\n",
    "    yield 300\n",
    "    \n",
    "제너레이터 = 함수()\n",
    "\n",
    "next(제너레이터)"
   ]
  },
  {
   "cell_type": "code",
   "execution_count": 20,
   "id": "4fa6d41c",
   "metadata": {},
   "outputs": [
    {
     "name": "stdout",
     "output_type": "stream",
     "text": [
      "출력A\n",
      "100\n",
      "출력B\n",
      "200\n",
      "출력C\n",
      "300\n"
     ]
    }
   ],
   "source": [
    "def 함수():\n",
    "    print(\"출력A\")\n",
    "    yield 100 #멈춤\n",
    "    print(\"출력B\")\n",
    "    yield 200\n",
    "    print(\"출력C\")\n",
    "    yield 300\n",
    "    \n",
    "제너레이터 = 함수()\n",
    "for i in 제너레이터:\n",
    "    print(i)\n",
    "for i in 제너레이터:\n",
    "    print(i)"
   ]
  },
  {
   "cell_type": "code",
   "execution_count": 22,
   "id": "19460e18",
   "metadata": {},
   "outputs": [
    {
     "name": "stdout",
     "output_type": "stream",
     "text": [
      "<built-in method join of str object at 0x000001F328643E70>\n"
     ]
    }
   ],
   "source": [
    "numbers = [1,2,3,4,5,6]\n",
    "print(\"::\".join)"
   ]
  },
  {
   "cell_type": "code",
   "execution_count": 21,
   "id": "d70e4a4f",
   "metadata": {},
   "outputs": [
    {
     "name": "stdout",
     "output_type": "stream",
     "text": [
      "1::2::3::4::5::6\n"
     ]
    }
   ],
   "source": [
    "numbers = [1,2,3,4,5,6]\n",
    "print(\"::\".join(\n",
    "    map(str, numbers)\n",
    "))"
   ]
  },
  {
   "cell_type": "code",
   "execution_count": null,
   "id": "622c0790",
   "metadata": {},
   "outputs": [],
   "source": []
  },
  {
   "cell_type": "code",
   "execution_count": null,
   "id": "20c08629",
   "metadata": {},
   "outputs": [],
   "source": []
  },
  {
   "cell_type": "code",
   "execution_count": null,
   "id": "22aa36e0",
   "metadata": {},
   "outputs": [],
   "source": []
  },
  {
   "cell_type": "code",
   "execution_count": null,
   "id": "f5389f7e",
   "metadata": {},
   "outputs": [],
   "source": []
  },
  {
   "cell_type": "code",
   "execution_count": null,
   "id": "8718a17d",
   "metadata": {},
   "outputs": [],
   "source": []
  },
  {
   "cell_type": "code",
   "execution_count": null,
   "id": "78d2aefd",
   "metadata": {},
   "outputs": [],
   "source": []
  }
 ],
 "metadata": {
  "kernelspec": {
   "display_name": "Python 3 (ipykernel)",
   "language": "python",
   "name": "python3"
  },
  "language_info": {
   "codemirror_mode": {
    "name": "ipython",
    "version": 3
   },
   "file_extension": ".py",
   "mimetype": "text/x-python",
   "name": "python",
   "nbconvert_exporter": "python",
   "pygments_lexer": "ipython3",
   "version": "3.9.7"
  }
 },
 "nbformat": 4,
 "nbformat_minor": 5
}
