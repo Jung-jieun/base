{
 "cells": [
  {
   "cell_type": "markdown",
   "id": "ac8d1aa4",
   "metadata": {},
   "source": [
    "# 5장 함수"
   ]
  },
  {
   "cell_type": "code",
   "execution_count": null,
   "id": "c056d376",
   "metadata": {},
   "outputs": [],
   "source": [
    "#함수선언\n",
    "def 함수이름(매개변수1, 매개변수2):\n",
    "    print(\"안녕하세요\" +str(매개변수1)) #2\n",
    "    print(\"안녕하세요\" +str(매개변수2)) #3\n",
    "    return 매개변수1+매개변수2\n",
    "    \n",
    "#함수호출\n",
    "함수이름() #1"
   ]
  },
  {
   "cell_type": "code",
   "execution_count": 3,
   "id": "c0409c37",
   "metadata": {},
   "outputs": [
    {
     "name": "stdout",
     "output_type": "stream",
     "text": [
      "안녕하세요\n",
      "안녕하세요\n",
      "안녕하세요\n",
      "안녕하세요\n",
      "안녕하세요\n"
     ]
    }
   ],
   "source": [
    "def print_n_times(value, n):\n",
    "    for i in range(n):\n",
    "        print(value)\n",
    "    \n",
    "print_n_times(\"안녕하세요\",5)"
   ]
  },
  {
   "cell_type": "code",
   "execution_count": 4,
   "id": "bf81e24b",
   "metadata": {},
   "outputs": [
    {
     "name": "stdout",
     "output_type": "stream",
     "text": [
      "0\n",
      "1\n",
      "(2, 3, 4, 5, 6, 7, 8, 9)\n"
     ]
    }
   ],
   "source": [
    "def 함수이름(매개변수1, 매개변수2, *가변매개변수):\n",
    "    print(매개변수1)\n",
    "    print(매개변수2)\n",
    "    print(가변매개변수)\n",
    "    \n",
    "함수이름(0,1,2,3,4,5,6,7,8,9)"
   ]
  },
  {
   "cell_type": "code",
   "execution_count": 5,
   "id": "95b42b00",
   "metadata": {},
   "outputs": [
    {
     "name": "stdout",
     "output_type": "stream",
     "text": [
      "안녕하세요\n",
      "안녕하세요\n",
      "안녕하세요\n",
      "안녕하세요\n",
      "안녕하세요\n"
     ]
    }
   ],
   "source": [
    "def print_n_times(value, n=5): #기본매개변수로 5가 들어감\n",
    "    for i in range(n):\n",
    "        print(value)\n",
    "    \n",
    "print_n_times(\"안녕하세요\") "
   ]
  },
  {
   "cell_type": "code",
   "execution_count": 7,
   "id": "62bc0f4c",
   "metadata": {},
   "outputs": [
    {
     "name": "stdout",
     "output_type": "stream",
     "text": [
      "0 1\n",
      "(2, 3, 4, 5, 6, 7, 8, 9, 10)\n",
      "11 20\n"
     ]
    }
   ],
   "source": [
    "def function(일반매개변수A, 일반매개변수B, *가변매개변수, 기본매개변수A=10, 기본매개변수B=20):\n",
    "    print(일반매개변수A, 일반매개변수B)\n",
    "    print(가변매개변수)\n",
    "    print(기본매개변수A, 기본매개변수B)\n",
    "    \n",
    "function(0,1,2,3,4,5,6,7,8,9,10, 기본매개변수A=11)"
   ]
  },
  {
   "cell_type": "code",
   "execution_count": 9,
   "id": "743424fb",
   "metadata": {},
   "outputs": [
    {
     "name": "stdout",
     "output_type": "stream",
     "text": [
      "A\n",
      "B\n",
      "100\n"
     ]
    }
   ],
   "source": [
    "def function():\n",
    "    print(\"A\")\n",
    "    print(\"B\")\n",
    "    return 100\n",
    "\n",
    "print(function())"
   ]
  },
  {
   "cell_type": "code",
   "execution_count": 11,
   "id": "6331dc90",
   "metadata": {},
   "outputs": [
    {
     "name": "stdout",
     "output_type": "stream",
     "text": [
      "5050\n",
      "3825\n"
     ]
    }
   ],
   "source": [
    "#start~end까지 있는 모든 정수를 더하는 함수\n",
    "def sum_all(start, end):\n",
    "    변수 = 0\n",
    "    for i in range(start, end+1):\n",
    "        변수+=i\n",
    "    return 변수\n",
    "\n",
    "print(sum_all(1,100))\n",
    "print(sum_all(50,100))"
   ]
  },
  {
   "cell_type": "markdown",
   "id": "2a3158c1",
   "metadata": {},
   "source": [
    "# 재귀함수와 메모화"
   ]
  },
  {
   "cell_type": "code",
   "execution_count": 14,
   "id": "4c002e7a",
   "metadata": {},
   "outputs": [
    {
     "name": "stdout",
     "output_type": "stream",
     "text": [
      "3628800\n"
     ]
    }
   ],
   "source": [
    "def factorial_1(n):\n",
    "    변수=1\n",
    "    for i in range(1, n+1):\n",
    "        변수 *=i\n",
    "    return 변수\n",
    "print(factorial_1(10))"
   ]
  },
  {
   "cell_type": "code",
   "execution_count": 15,
   "id": "a76e794e",
   "metadata": {},
   "outputs": [
    {
     "name": "stdout",
     "output_type": "stream",
     "text": [
      "6\n"
     ]
    }
   ],
   "source": [
    "def factorial_2(n):\n",
    "    if n==0:\n",
    "        return 1\n",
    "    else:\n",
    "        return n * factorial_2(n-1)\n",
    "print(factorial_2(3))"
   ]
  },
  {
   "cell_type": "code",
   "execution_count": 18,
   "id": "92c73fbe",
   "metadata": {},
   "outputs": [
    {
     "name": "stdout",
     "output_type": "stream",
     "text": [
      "1\n",
      "1\n",
      "2\n",
      "3\n"
     ]
    }
   ],
   "source": [
    "def f(n):\n",
    "    if n==1 or n==2:\n",
    "        return 1\n",
    "    else:\n",
    "            return f(n-1)+f(n-2)\n",
    "print(f(1))\n",
    "print(f(2))\n",
    "print(f(3))\n",
    "print(f(4))"
   ]
  },
  {
   "cell_type": "code",
   "execution_count": 19,
   "id": "8c12fa95",
   "metadata": {},
   "outputs": [
    {
     "name": "stdout",
     "output_type": "stream",
     "text": [
      "9969216677189303386214405760200\n"
     ]
    }
   ],
   "source": [
    "메모 = {1:1, 2:1}\n",
    "def f(n):\n",
    "    if n in 메모:\n",
    "        return 메모[n]\n",
    "    else:\n",
    "        output = f(n-1)+f(n-2)\n",
    "        메모[n]=output\n",
    "        return output\n",
    "print(f(150))"
   ]
  },
  {
   "cell_type": "code",
   "execution_count": 21,
   "id": "9e296f57",
   "metadata": {},
   "outputs": [
    {
     "name": "stdout",
     "output_type": "stream",
     "text": [
      "원본: [[1, 2, 3], [4, [5, 6], 7, [8, 9]]]\n",
      "변환: [1, 2, 3, 4, 5, 6, 7, 8, 9]\n"
     ]
    }
   ],
   "source": [
    "def flatten(data):\n",
    "    output = []\n",
    "    for item in data:\n",
    "        if type(item)==list:\n",
    "            output+=flatten(item)\n",
    "        else:\n",
    "            output+=[item]\n",
    "    return output\n",
    "example = [[1,2,3],[4,[5,6],7,[8,9]]]\n",
    "print(\"원본:\", example)\n",
    "print(\"변환:\", flatten(example))"
   ]
  },
  {
   "cell_type": "markdown",
   "id": "e4216691",
   "metadata": {},
   "source": [
    "# 튜플"
   ]
  },
  {
   "cell_type": "code",
   "execution_count": 23,
   "id": "a05aaa0b",
   "metadata": {},
   "outputs": [
    {
     "name": "stdout",
     "output_type": "stream",
     "text": [
      "(2, 17)\n",
      "<class 'tuple'>\n"
     ]
    }
   ],
   "source": [
    "#튜플은 소괄호 사용\n",
    "#튜플은 값을 수정할 수 없음\n",
    "a, b =97, 40\n",
    "print(divmod(a,b))\n",
    "print(type(divmod(a,b)))"
   ]
  },
  {
   "cell_type": "code",
   "execution_count": 25,
   "id": "a8696eb5",
   "metadata": {},
   "outputs": [
    {
     "name": "stdout",
     "output_type": "stream",
     "text": [
      "[0, 2, 4, 6, 8, 10, 12, 14, 16, 18, 20, 22, 24, 26, 28, 30, 32, 34, 36, 38, 40, 42, 44, 46, 48, 50, 52, 54, 56, 58, 60, 62, 64, 66, 68, 70, 72, 74, 76, 78, 80, 82, 84, 86, 88, 90, 92, 94, 96, 98]\n"
     ]
    }
   ],
   "source": [
    "def 짝수만(number):\n",
    "    return number %2 ==0\n",
    "\n",
    "a = list(range(100))\n",
    "b= filter(짝수만, a)\n",
    "print(list(b))"
   ]
  },
  {
   "cell_type": "code",
   "execution_count": 26,
   "id": "bf995521",
   "metadata": {},
   "outputs": [
    {
     "name": "stdout",
     "output_type": "stream",
     "text": [
      "[0, 2, 4, 6, 8, 10, 12, 14, 16, 18, 20, 22, 24, 26, 28, 30, 32, 34, 36, 38, 40, 42, 44, 46, 48, 50, 52, 54, 56, 58, 60, 62, 64, 66, 68, 70, 72, 74, 76, 78, 80, 82, 84, 86, 88, 90, 92, 94, 96, 98]\n"
     ]
    }
   ],
   "source": [
    "a = list(range(100))\n",
    "b= filter(lambda number:number %2 ==0,a)\n",
    "print(list(b))"
   ]
  },
  {
   "cell_type": "code",
   "execution_count": null,
   "id": "8d948f83",
   "metadata": {},
   "outputs": [],
   "source": []
  },
  {
   "cell_type": "code",
   "execution_count": null,
   "id": "3b1f50da",
   "metadata": {},
   "outputs": [],
   "source": []
  },
  {
   "cell_type": "code",
   "execution_count": null,
   "id": "aa437313",
   "metadata": {},
   "outputs": [],
   "source": []
  },
  {
   "cell_type": "code",
   "execution_count": null,
   "id": "e0110b81",
   "metadata": {},
   "outputs": [],
   "source": []
  },
  {
   "cell_type": "code",
   "execution_count": null,
   "id": "2672af40",
   "metadata": {},
   "outputs": [],
   "source": []
  },
  {
   "cell_type": "code",
   "execution_count": null,
   "id": "74a26b41",
   "metadata": {},
   "outputs": [],
   "source": []
  },
  {
   "cell_type": "code",
   "execution_count": null,
   "id": "f91c15be",
   "metadata": {},
   "outputs": [],
   "source": []
  },
  {
   "cell_type": "code",
   "execution_count": null,
   "id": "e01b4b49",
   "metadata": {},
   "outputs": [],
   "source": []
  },
  {
   "cell_type": "code",
   "execution_count": null,
   "id": "71dfcf80",
   "metadata": {},
   "outputs": [],
   "source": []
  },
  {
   "cell_type": "code",
   "execution_count": null,
   "id": "622c0790",
   "metadata": {},
   "outputs": [],
   "source": []
  },
  {
   "cell_type": "code",
   "execution_count": null,
   "id": "20c08629",
   "metadata": {},
   "outputs": [],
   "source": []
  },
  {
   "cell_type": "code",
   "execution_count": null,
   "id": "22aa36e0",
   "metadata": {},
   "outputs": [],
   "source": []
  },
  {
   "cell_type": "code",
   "execution_count": null,
   "id": "f5389f7e",
   "metadata": {},
   "outputs": [],
   "source": []
  },
  {
   "cell_type": "code",
   "execution_count": null,
   "id": "8718a17d",
   "metadata": {},
   "outputs": [],
   "source": []
  },
  {
   "cell_type": "code",
   "execution_count": null,
   "id": "78d2aefd",
   "metadata": {},
   "outputs": [],
   "source": []
  }
 ],
 "metadata": {
  "kernelspec": {
   "display_name": "Python 3 (ipykernel)",
   "language": "python",
   "name": "python3"
  },
  "language_info": {
   "codemirror_mode": {
    "name": "ipython",
    "version": 3
   },
   "file_extension": ".py",
   "mimetype": "text/x-python",
   "name": "python",
   "nbconvert_exporter": "python",
   "pygments_lexer": "ipython3",
   "version": "3.9.7"
  }
 },
 "nbformat": 4,
 "nbformat_minor": 5
}
