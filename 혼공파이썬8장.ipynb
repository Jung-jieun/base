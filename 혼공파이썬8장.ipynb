{
 "cells": [
  {
   "cell_type": "markdown",
   "id": "f1941b74",
   "metadata": {},
   "source": [
    "# 8장 클래스"
   ]
  },
  {
   "cell_type": "code",
   "execution_count": null,
   "id": "8ec35277",
   "metadata": {},
   "outputs": [],
   "source": [
    "객체(object)\n",
    "=속성+행위"
   ]
  },
  {
   "cell_type": "code",
   "execution_count": 9,
   "id": "b8e08947",
   "metadata": {},
   "outputs": [
    {
     "name": "stdout",
     "output_type": "stream",
     "text": [
      "이름 총점 평균\n",
      "나선주 378 94.5\n"
     ]
    }
   ],
   "source": [
    "#학생 리스트 선언\n",
    "students = [\n",
    "    {\"name\":\"윤인성\",\"korean\":87,\"math\":98,\"english\":88,\"science\":95},\n",
    "    {\"name\":\"연하진\",\"korean\":92,\"math\":98,\"english\":96,\"science\":98},\n",
    "    {\"name\":\"구지연\",\"korean\":76,\"math\":96,\"english\":94,\"science\":90},\n",
    "    {\"name\":\"나선주\",\"korean\":98,\"math\":92,\"english\":96,\"science\":92}\n",
    "]\n",
    "\n",
    "#학생 한 명씩 반복\n",
    "print(\"이름\",\"총점\",\"평균\",sep=\" \")\n",
    "for student in students:\n",
    "    #점수 총합과 평균\n",
    "    score_sum=student[\"korean\"] + student[\"math\"] + student[\"english\"] + student[\"science\"]\n",
    "    score_average=score_sum/4\n",
    "#출력\n",
    "print(student[\"name\"],score_sum,score_average,sep=\" \")"
   ]
  },
  {
   "cell_type": "code",
   "execution_count": 13,
   "id": "619f1240",
   "metadata": {},
   "outputs": [
    {
     "name": "stdout",
     "output_type": "stream",
     "text": [
      "이름 총점 평균\n",
      "윤인성 368 92.0\n",
      "연하진 384 96.0\n",
      "구지연 356 89.0\n",
      "나선주 378 94.5\n"
     ]
    }
   ],
   "source": [
    "def 학생_생성(name, korean, math, english, science):\n",
    "    return{\n",
    "        \"name\": name,\n",
    "        \"korean\": korean,\n",
    "        \"math\": math,\n",
    "        \"english\": english,\n",
    "        \"science\": science\n",
    "    }\n",
    "def 총점(student):\n",
    "    return student[\"korean\"]+student[\"math\"]+student[\"english\"]+student[\"science\"]\n",
    "def 평균(student):\n",
    "    return 총점(student)/4\n",
    "def 출력(student):\n",
    "    print(student[\"name\"],총점(student),평균(student), sep=\" \")\n",
    "\n",
    "students = [\n",
    "   학생_생성(\"윤인성\",87,98,88,95),\n",
    "    학생_생성(\"연하진\",92,98,96,98),\n",
    "    학생_생성(\"구지연\",76,96,94,90),\n",
    "    학생_생성(\"나선주\",98,92,96,92)\n",
    "]\n",
    "\n",
    "print(\"이름\",\"총점\",\"평균\",sep=\" \")\n",
    "for student in students:\n",
    "    출력(student)"
   ]
  },
  {
   "cell_type": "code",
   "execution_count": 26,
   "id": "5e5c93e9",
   "metadata": {},
   "outputs": [
    {
     "name": "stdout",
     "output_type": "stream",
     "text": [
      "이름 총점 평균\n",
      "윤인성 368 92.0\n",
      "연하진 384 96.0\n",
      "구지연 356 89.0\n",
      "나선주 378 94.5\n"
     ]
    }
   ],
   "source": [
    "class 학생:\n",
    "    def __init__(self,name, korean, math, english, science):\n",
    "        self.name = name\n",
    "        self.korean = korean\n",
    "        self.math = math\n",
    "        self.english = english\n",
    "        self.science = science\n",
    "    def 총점(self):\n",
    "        return self.korean + self.math + self.english + self.science\n",
    "    def 평균(self):\n",
    "        return self.총점()/4\n",
    "    def 출력(self):\n",
    "        print(self.name, self.총점(),self.평균(),sep = \" \")\n",
    "        \n",
    "students = [\n",
    "    학생(\"윤인성\",87,98,88,95),\n",
    "    학생(\"연하진\",92,98,96,98),\n",
    "    학생(\"구지연\",76,96,94,90),\n",
    "    학생(\"나선주\",98,92,96,92)\n",
    "]\n",
    "\n",
    "print(\"이름\",\"총점\",\"평균\",sep=\" \")\n",
    "for student in students:\n",
    "    student.출력()"
   ]
  },
  {
   "cell_type": "code",
   "execution_count": 32,
   "id": "4106b842",
   "metadata": {},
   "outputs": [
    {
     "name": "stdout",
     "output_type": "stream",
     "text": [
      "객체가 생성되었습니다.\n",
      "객체가 소멸되었습니다.\n",
      "정지은 24\n"
     ]
    }
   ],
   "source": [
    "class Student:\n",
    "    def __init__(self,이름,나이):\n",
    "        print(\"객체가 생성되었습니다.\")\n",
    "        self.이름 = 이름\n",
    "        self.나이 = 나이\n",
    "    def __del__(self):\n",
    "        print(\"객체가 소멸되었습니다.\")\n",
    "\n",
    "student = Student(\"정지은\",24)\n",
    "print(student.이름,student.나이)\n",
    "# 클래스(틀) : 학생은 이름이라는 속성 가짐\n",
    "# 객체(실체화 된 것): 학생 이름 넣기\n",
    "# 실체화 한 객체 = \"인스턴스\""
   ]
  },
  {
   "cell_type": "code",
   "execution_count": 38,
   "id": "20fd70f3",
   "metadata": {},
   "outputs": [
    {
     "name": "stdout",
     "output_type": "stream",
     "text": [
      "객체가 생성되었습니다.\n",
      "정지은 24\n"
     ]
    }
   ],
   "source": [
    "class Student:\n",
    "    def __init__(self,이름,나이):\n",
    "        print(\"객체가 생성되었습니다.\")\n",
    "        self.이름 = 이름\n",
    "        self.나이 = 나이\n",
    "    def __del__(self):\n",
    "        print(\"객체가 소멸되었습니다.\")\n",
    "    def 출력(self):\n",
    "        print(self.이름,self.나이)\n",
    "student = Student(\"정지은\",24)\n",
    "student.출력()"
   ]
  },
  {
   "cell_type": "code",
   "execution_count": 41,
   "id": "63b52f9c",
   "metadata": {},
   "outputs": [
    {
     "name": "stdout",
     "output_type": "stream",
     "text": [
      "객체가 생성되었습니다.\n",
      "객체가 소멸되었습니다.\n",
      "정지은 24\n",
      "문자열\n"
     ]
    }
   ],
   "source": [
    "class Student:\n",
    "    def __str__(self):\n",
    "        return \"문자열\"\n",
    "    def __init__(self,이름,나이):\n",
    "        print(\"객체가 생성되었습니다.\")\n",
    "        self.이름 = 이름\n",
    "        self.나이 = 나이\n",
    "    def __del__(self):\n",
    "        print(\"객체가 소멸되었습니다.\")\n",
    "    def 출력(self):\n",
    "        print(self.이름,self.나이)\n",
    "        \n",
    "student = Student(\"정지은\",24)\n",
    "student.출력()\n",
    "print(str(student))"
   ]
  },
  {
   "cell_type": "code",
   "execution_count": 45,
   "id": "6e613e8d",
   "metadata": {},
   "outputs": [
    {
     "name": "stdout",
     "output_type": "stream",
     "text": [
      "객체가 생성되었습니다.\n"
     ]
    },
    {
     "data": {
      "text/plain": [
       "True"
      ]
     },
     "execution_count": 45,
     "metadata": {},
     "output_type": "execute_result"
    }
   ],
   "source": [
    "class Student:\n",
    "    def __init__(self,이름,나이):\n",
    "        print(\"객체가 생성되었습니다.\")\n",
    "        self.이름 = 이름\n",
    "        self.나이 = 나이\n",
    "    def __eq__(self, other):\n",
    "        print(\"eq() 함수\")\n",
    "        return self.나이 == other.나이\n",
    "    def __ne__(self, other):\n",
    "        print(\"ne() 함수\")\n",
    "        return self.나이 != other.나이\n",
    "    def __gt__(self, other):\n",
    "        print(\"gt() 함수\")\n",
    "        return self.나이 > other.나이\n",
    "    def __ge__(self, other):\n",
    "        print(\"ge() 함수\")\n",
    "        return self.나이 >= other.나이\n",
    "    def __lt__(self, other):\n",
    "        print(\"lt() 함수\")\n",
    "        return self.나이 < other.나이\n",
    "    def __ge__(self, other):\n",
    "        print(\"ge() 함수\")\n",
    "        return self.나이 <= other.나이\n",
    "        \n",
    "        \n",
    "        \n",
    "student = Student(\"정지은\",24)\n",
    "student == student\n",
    "student != student\n",
    "student > student\n",
    "student >= student\n",
    "student < student\n",
    "student <= student"
   ]
  },
  {
   "cell_type": "code",
   "execution_count": 46,
   "id": "c2ff17d2",
   "metadata": {},
   "outputs": [
    {
     "name": "stdout",
     "output_type": "stream",
     "text": [
      "객체가 생성되었습니다.\n"
     ]
    },
    {
     "data": {
      "text/plain": [
       "True"
      ]
     },
     "execution_count": 46,
     "metadata": {},
     "output_type": "execute_result"
    }
   ],
   "source": [
    "class Student:\n",
    "    def __init__(self,이름,나이):\n",
    "        print(\"객체가 생성되었습니다.\")\n",
    "        self.이름 = 이름\n",
    "        self.나이 = 나이\n",
    "    def __eq__(self, other):\n",
    "        return self.나이 == other.나이\n",
    "    def __ne__(self, other):\n",
    "        return self.나이 != other.나이\n",
    "    def __gt__(self, other):\n",
    "        return self.나이 > other.나이\n",
    "    def __ge__(self, other):\n",
    "        return self.나이 >= other.나이\n",
    "    def __lt__(self, other):\n",
    "        return self.나이 < other.나이\n",
    "    def __ge__(self, other):\n",
    "        return self.나이 <= other.나이\n",
    "        \n",
    "        \n",
    "        \n",
    "student = Student(\"정지은\",24)\n",
    "student == student\n",
    "student != student\n",
    "student > student\n",
    "student >= student\n",
    "student < student\n",
    "student <= student"
   ]
  },
  {
   "cell_type": "code",
   "execution_count": 48,
   "id": "378c5723",
   "metadata": {},
   "outputs": [
    {
     "name": "stdout",
     "output_type": "stream",
     "text": [
      "100\n"
     ]
    }
   ],
   "source": [
    "class Rect:\n",
    "    def __init__(self,width,height):\n",
    "        self.width = width\n",
    "        self.height = height\n",
    "    def get_area(self):\n",
    "        return self.width * self.height\n",
    "    \n",
    "rect = Rect(10,10)\n",
    "print(rect.get_area())"
   ]
  },
  {
   "cell_type": "code",
   "execution_count": 58,
   "id": "0586df7a",
   "metadata": {},
   "outputs": [
    {
     "ename": "Exception",
     "evalue": "너비와 높이는 음수가 나올 수 없습니다",
     "output_type": "error",
     "traceback": [
      "\u001b[1;31m---------------------------------------------------------------------------\u001b[0m",
      "\u001b[1;31mException\u001b[0m                                 Traceback (most recent call last)",
      "\u001b[1;32m~\\AppData\\Local\\Temp/ipykernel_4868/297604179.py\u001b[0m in \u001b[0;36m<module>\u001b[1;34m\u001b[0m\n\u001b[0;32m      8\u001b[0m         \u001b[1;32mreturn\u001b[0m \u001b[0mself\u001b[0m\u001b[1;33m.\u001b[0m\u001b[0mwidth\u001b[0m \u001b[1;33m*\u001b[0m \u001b[0mself\u001b[0m\u001b[1;33m.\u001b[0m\u001b[0mheight\u001b[0m\u001b[1;33m\u001b[0m\u001b[1;33m\u001b[0m\u001b[0m\n\u001b[0;32m      9\u001b[0m \u001b[1;33m\u001b[0m\u001b[0m\n\u001b[1;32m---> 10\u001b[1;33m \u001b[0mrect\u001b[0m \u001b[1;33m=\u001b[0m \u001b[0mRect\u001b[0m\u001b[1;33m(\u001b[0m\u001b[1;33m-\u001b[0m\u001b[1;36m10\u001b[0m\u001b[1;33m,\u001b[0m\u001b[1;36m10\u001b[0m\u001b[1;33m)\u001b[0m\u001b[1;33m\u001b[0m\u001b[1;33m\u001b[0m\u001b[0m\n\u001b[0m\u001b[0;32m     11\u001b[0m \u001b[0mprint\u001b[0m\u001b[1;33m(\u001b[0m\u001b[0mrect\u001b[0m\u001b[1;33m.\u001b[0m\u001b[0mget_area\u001b[0m\u001b[1;33m(\u001b[0m\u001b[1;33m)\u001b[0m\u001b[1;33m)\u001b[0m\u001b[1;33m\u001b[0m\u001b[1;33m\u001b[0m\u001b[0m\n",
      "\u001b[1;32m~\\AppData\\Local\\Temp/ipykernel_4868/297604179.py\u001b[0m in \u001b[0;36m__init__\u001b[1;34m(self, width, height)\u001b[0m\n\u001b[0;32m      2\u001b[0m     \u001b[1;32mdef\u001b[0m \u001b[0m__init__\u001b[0m\u001b[1;33m(\u001b[0m\u001b[0mself\u001b[0m\u001b[1;33m,\u001b[0m\u001b[0mwidth\u001b[0m\u001b[1;33m,\u001b[0m\u001b[0mheight\u001b[0m\u001b[1;33m)\u001b[0m\u001b[1;33m:\u001b[0m\u001b[1;33m\u001b[0m\u001b[1;33m\u001b[0m\u001b[0m\n\u001b[0;32m      3\u001b[0m         \u001b[1;32mif\u001b[0m \u001b[0mwidth\u001b[0m \u001b[1;33m<=\u001b[0m \u001b[1;36m0\u001b[0m \u001b[1;32mor\u001b[0m \u001b[0mheight\u001b[0m \u001b[1;33m<=\u001b[0m \u001b[1;36m0\u001b[0m\u001b[1;33m:\u001b[0m\u001b[1;33m\u001b[0m\u001b[1;33m\u001b[0m\u001b[0m\n\u001b[1;32m----> 4\u001b[1;33m             \u001b[1;32mraise\u001b[0m \u001b[0mException\u001b[0m\u001b[1;33m(\u001b[0m\u001b[1;34m\"너비와 높이는 음수가 나올 수 없습니다\"\u001b[0m\u001b[1;33m)\u001b[0m\u001b[1;33m\u001b[0m\u001b[1;33m\u001b[0m\u001b[0m\n\u001b[0m\u001b[0;32m      5\u001b[0m         \u001b[0mself\u001b[0m\u001b[1;33m.\u001b[0m\u001b[0m__width\u001b[0m \u001b[1;33m=\u001b[0m \u001b[0mwidth\u001b[0m\u001b[1;33m\u001b[0m\u001b[1;33m\u001b[0m\u001b[0m\n\u001b[0;32m      6\u001b[0m         \u001b[0mself\u001b[0m\u001b[1;33m.\u001b[0m\u001b[0m__height\u001b[0m \u001b[1;33m=\u001b[0m \u001b[0mheight\u001b[0m\u001b[1;33m\u001b[0m\u001b[1;33m\u001b[0m\u001b[0m\n",
      "\u001b[1;31mException\u001b[0m: 너비와 높이는 음수가 나올 수 없습니다"
     ]
    }
   ],
   "source": [
    "class Rect:\n",
    "    def __init__(self,width,height):\n",
    "        if width <= 0 or height <= 0:\n",
    "            raise Exception(\"너비와 높이는 음수가 나올 수 없습니다\")\n",
    "        self.__width = width\n",
    "        self.__height = height\n",
    "    def get_area(self):\n",
    "        return self.width * self.height\n",
    "    \n",
    "rect = Rect(-10,10)\n",
    "print(rect.get_area())"
   ]
  },
  {
   "cell_type": "code",
   "execution_count": 59,
   "id": "a53f2f11",
   "metadata": {},
   "outputs": [
    {
     "ename": "Exception",
     "evalue": "너비와 높이는 음수가 나올 수 없습니다",
     "output_type": "error",
     "traceback": [
      "\u001b[1;31m---------------------------------------------------------------------------\u001b[0m",
      "\u001b[1;31mException\u001b[0m                                 Traceback (most recent call last)",
      "\u001b[1;32m~\\AppData\\Local\\Temp/ipykernel_4868/3896181260.py\u001b[0m in \u001b[0;36m<module>\u001b[1;34m\u001b[0m\n\u001b[0;32m     12\u001b[0m         \u001b[1;32mreturn\u001b[0m \u001b[0mself\u001b[0m\u001b[1;33m.\u001b[0m\u001b[0mwidth\u001b[0m \u001b[1;33m*\u001b[0m \u001b[0mself\u001b[0m\u001b[1;33m.\u001b[0m\u001b[0mheight\u001b[0m\u001b[1;33m\u001b[0m\u001b[1;33m\u001b[0m\u001b[0m\n\u001b[0;32m     13\u001b[0m \u001b[1;33m\u001b[0m\u001b[0m\n\u001b[1;32m---> 14\u001b[1;33m \u001b[0mrect\u001b[0m \u001b[1;33m=\u001b[0m \u001b[0mRect\u001b[0m\u001b[1;33m(\u001b[0m\u001b[1;33m-\u001b[0m\u001b[1;36m10\u001b[0m\u001b[1;33m,\u001b[0m\u001b[1;36m10\u001b[0m\u001b[1;33m)\u001b[0m\u001b[1;33m\u001b[0m\u001b[1;33m\u001b[0m\u001b[0m\n\u001b[0m\u001b[0;32m     15\u001b[0m \u001b[0mprint\u001b[0m\u001b[1;33m(\u001b[0m\u001b[0mrect\u001b[0m\u001b[1;33m.\u001b[0m\u001b[0mget_area\u001b[0m\u001b[1;33m(\u001b[0m\u001b[1;33m)\u001b[0m\u001b[1;33m)\u001b[0m\u001b[1;33m\u001b[0m\u001b[1;33m\u001b[0m\u001b[0m\n",
      "\u001b[1;32m~\\AppData\\Local\\Temp/ipykernel_4868/3896181260.py\u001b[0m in \u001b[0;36m__init__\u001b[1;34m(self, width, height)\u001b[0m\n\u001b[0;32m      2\u001b[0m     \u001b[1;32mdef\u001b[0m \u001b[0m__init__\u001b[0m\u001b[1;33m(\u001b[0m\u001b[0mself\u001b[0m\u001b[1;33m,\u001b[0m\u001b[0mwidth\u001b[0m\u001b[1;33m,\u001b[0m\u001b[0mheight\u001b[0m\u001b[1;33m)\u001b[0m\u001b[1;33m:\u001b[0m\u001b[1;33m\u001b[0m\u001b[1;33m\u001b[0m\u001b[0m\n\u001b[0;32m      3\u001b[0m         \u001b[1;32mif\u001b[0m \u001b[0mwidth\u001b[0m \u001b[1;33m<=\u001b[0m \u001b[1;36m0\u001b[0m \u001b[1;32mor\u001b[0m \u001b[0mheight\u001b[0m \u001b[1;33m<=\u001b[0m \u001b[1;36m0\u001b[0m\u001b[1;33m:\u001b[0m\u001b[1;33m\u001b[0m\u001b[1;33m\u001b[0m\u001b[0m\n\u001b[1;32m----> 4\u001b[1;33m             \u001b[1;32mraise\u001b[0m \u001b[0mException\u001b[0m\u001b[1;33m(\u001b[0m\u001b[1;34m\"너비와 높이는 음수가 나올 수 없습니다\"\u001b[0m\u001b[1;33m)\u001b[0m\u001b[1;33m\u001b[0m\u001b[1;33m\u001b[0m\u001b[0m\n\u001b[0m\u001b[0;32m      5\u001b[0m         \u001b[0mself\u001b[0m\u001b[1;33m.\u001b[0m\u001b[0m__width\u001b[0m \u001b[1;33m=\u001b[0m \u001b[0mwidth\u001b[0m\u001b[1;33m\u001b[0m\u001b[1;33m\u001b[0m\u001b[0m\n\u001b[0;32m      6\u001b[0m         \u001b[0mself\u001b[0m\u001b[1;33m.\u001b[0m\u001b[0m__height\u001b[0m \u001b[1;33m=\u001b[0m \u001b[0mheight\u001b[0m\u001b[1;33m\u001b[0m\u001b[1;33m\u001b[0m\u001b[0m\n",
      "\u001b[1;31mException\u001b[0m: 너비와 높이는 음수가 나올 수 없습니다"
     ]
    }
   ],
   "source": [
    "class Rect:\n",
    "    def __init__(self,width,height):\n",
    "        if width <= 0 or height <= 0:\n",
    "            raise Exception(\"너비와 높이는 음수가 나올 수 없습니다\")\n",
    "        self.__width = width\n",
    "        self.__height = height\n",
    "    def get_width(self):\n",
    "        return self.__width\n",
    "    def set_width(self, width):\n",
    "        self.__width = width\n",
    "    def get_area(self):\n",
    "        return self.width * self.height\n",
    "    \n",
    "rect = Rect(-10,10)\n",
    "print(rect.get_area())"
   ]
  },
  {
   "cell_type": "code",
   "execution_count": null,
   "id": "32a97a30",
   "metadata": {},
   "outputs": [],
   "source": []
  },
  {
   "cell_type": "code",
   "execution_count": null,
   "id": "3d20720e",
   "metadata": {},
   "outputs": [],
   "source": []
  },
  {
   "cell_type": "code",
   "execution_count": null,
   "id": "78bf2e19",
   "metadata": {},
   "outputs": [],
   "source": []
  },
  {
   "cell_type": "code",
   "execution_count": null,
   "id": "029f2c79",
   "metadata": {},
   "outputs": [],
   "source": []
  },
  {
   "cell_type": "code",
   "execution_count": null,
   "id": "60d8ba86",
   "metadata": {},
   "outputs": [],
   "source": []
  },
  {
   "cell_type": "code",
   "execution_count": null,
   "id": "2d894f82",
   "metadata": {},
   "outputs": [],
   "source": []
  },
  {
   "cell_type": "code",
   "execution_count": null,
   "id": "ef9c743b",
   "metadata": {},
   "outputs": [],
   "source": []
  },
  {
   "cell_type": "code",
   "execution_count": null,
   "id": "d70b15b1",
   "metadata": {},
   "outputs": [],
   "source": []
  },
  {
   "cell_type": "code",
   "execution_count": null,
   "id": "b6db4d5a",
   "metadata": {},
   "outputs": [],
   "source": []
  },
  {
   "cell_type": "code",
   "execution_count": null,
   "id": "845d5456",
   "metadata": {},
   "outputs": [],
   "source": []
  },
  {
   "cell_type": "code",
   "execution_count": null,
   "id": "5278b080",
   "metadata": {},
   "outputs": [],
   "source": []
  },
  {
   "cell_type": "code",
   "execution_count": null,
   "id": "f38f7047",
   "metadata": {},
   "outputs": [],
   "source": []
  }
 ],
 "metadata": {
  "kernelspec": {
   "display_name": "Python 3 (ipykernel)",
   "language": "python",
   "name": "python3"
  },
  "language_info": {
   "codemirror_mode": {
    "name": "ipython",
    "version": 3
   },
   "file_extension": ".py",
   "mimetype": "text/x-python",
   "name": "python",
   "nbconvert_exporter": "python",
   "pygments_lexer": "ipython3",
   "version": "3.9.7"
  }
 },
 "nbformat": 4,
 "nbformat_minor": 5
}
