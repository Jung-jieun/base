{
 "cells": [
  {
   "cell_type": "markdown",
   "id": "0b32e663",
   "metadata": {},
   "source": [
    "# 2 자료형  "
   ]
  },
  {
   "cell_type": "code",
   "execution_count": 5,
   "id": "cd570c0b",
   "metadata": {},
   "outputs": [
    {
     "data": {
      "text/plain": [
       "int"
      ]
     },
     "execution_count": 5,
     "metadata": {},
     "output_type": "execute_result"
    }
   ],
   "source": [
    "type(32)  "
   ]
  },
  {
   "cell_type": "code",
   "execution_count": 6,
   "id": "85a344c5",
   "metadata": {},
   "outputs": [
    {
     "data": {
      "text/plain": [
       "str"
      ]
     },
     "execution_count": 6,
     "metadata": {},
     "output_type": "execute_result"
    }
   ],
   "source": [
    "type(\"Hello World...!\")"
   ]
  },
  {
   "cell_type": "code",
   "execution_count": 7,
   "id": "54efbc5e",
   "metadata": {},
   "outputs": [
    {
     "data": {
      "text/plain": [
       "\"'안녕하세요'라고 말했습니다\""
      ]
     },
     "execution_count": 7,
     "metadata": {},
     "output_type": "execute_result"
    }
   ],
   "source": [
    "\"'안녕하세요'라고 말했습니다\""
   ]
  },
  {
   "cell_type": "code",
   "execution_count": 8,
   "id": "7d84774e",
   "metadata": {},
   "outputs": [
    {
     "data": {
      "text/plain": [
       "'\"안녕하세요\"라고 말했습니다'"
      ]
     },
     "execution_count": 8,
     "metadata": {},
     "output_type": "execute_result"
    }
   ],
   "source": [
    "\"\\\"안녕하세요\\\"라고 말했습니다\""
   ]
  },
  {
   "cell_type": "code",
   "execution_count": 9,
   "id": "7f2ece37",
   "metadata": {},
   "outputs": [
    {
     "name": "stdout",
     "output_type": "stream",
     "text": [
      "안녕하세요\n",
      "안녕하세요\n"
     ]
    }
   ],
   "source": [
    "print(\"안녕하세요\\n안녕하세요\")"
   ]
  },
  {
   "cell_type": "code",
   "execution_count": 10,
   "id": "22bba57a",
   "metadata": {},
   "outputs": [
    {
     "data": {
      "text/plain": [
       "'--------------------'"
      ]
     },
     "execution_count": 10,
     "metadata": {},
     "output_type": "execute_result"
    }
   ],
   "source": [
    "\"-\"*20"
   ]
  },
  {
   "cell_type": "code",
   "execution_count": 12,
   "id": "0de431bf",
   "metadata": {},
   "outputs": [
    {
     "name": "stdout",
     "output_type": "stream",
     "text": [
      "안\n"
     ]
    }
   ],
   "source": [
    "print(\"안녕하세요\"[0]) #0부터 센다"
   ]
  },
  {
   "cell_type": "code",
   "execution_count": 13,
   "id": "25d313be",
   "metadata": {},
   "outputs": [
    {
     "name": "stdout",
     "output_type": "stream",
     "text": [
      "요\n"
     ]
    }
   ],
   "source": [
    "print(\"안녕하세요\"[-1])"
   ]
  },
  {
   "cell_type": "code",
   "execution_count": 16,
   "id": "7ae384d0",
   "metadata": {},
   "outputs": [
    {
     "name": "stdout",
     "output_type": "stream",
     "text": [
      "안녕\n"
     ]
    }
   ],
   "source": [
    "print(\"안녕하세요\"[0:2]) #뒤쪽 숫자 포함 안함"
   ]
  },
  {
   "cell_type": "code",
   "execution_count": 17,
   "id": "1c1b2b7f",
   "metadata": {},
   "outputs": [
    {
     "name": "stdout",
     "output_type": "stream",
     "text": [
      "하세요\n"
     ]
    }
   ],
   "source": [
    "print(\"안녕하세요\"[2:])"
   ]
  },
  {
   "cell_type": "code",
   "execution_count": 18,
   "id": "1312e072",
   "metadata": {},
   "outputs": [
    {
     "name": "stdout",
     "output_type": "stream",
     "text": [
      "5\n"
     ]
    }
   ],
   "source": [
    "print(len(\"안녕하세요\"))"
   ]
  },
  {
   "cell_type": "code",
   "execution_count": 24,
   "id": "89e64fd9",
   "metadata": {},
   "outputs": [
    {
     "data": {
      "text/plain": [
       "13.14"
      ]
     },
     "execution_count": 24,
     "metadata": {},
     "output_type": "execute_result"
    }
   ],
   "source": [
    "pi = 3.14  \n",
    "pi += 10  \n",
    "pi"
   ]
  },
  {
   "cell_type": "markdown",
   "id": "60f3463f",
   "metadata": {},
   "source": [
    "**사용자 함수**"
   ]
  },
  {
   "cell_type": "code",
   "execution_count": 25,
   "id": "6dd47fbe",
   "metadata": {},
   "outputs": [
    {
     "name": "stdout",
     "output_type": "stream",
     "text": [
      ">>>18s\n"
     ]
    },
    {
     "data": {
      "text/plain": [
       "'18s'"
      ]
     },
     "execution_count": 25,
     "metadata": {},
     "output_type": "execute_result"
    }
   ],
   "source": [
    "input(\">>>\")"
   ]
  },
  {
   "cell_type": "code",
   "execution_count": 28,
   "id": "036ab166",
   "metadata": {},
   "outputs": [
    {
     "name": "stdout",
     "output_type": "stream",
     "text": [
      ">>>123\n",
      "123\n"
     ]
    }
   ],
   "source": [
    "a = input(\">>>\")  \n",
    "print(a)"
   ]
  },
  {
   "cell_type": "code",
   "execution_count": 29,
   "id": "6728c541",
   "metadata": {},
   "outputs": [
    {
     "data": {
      "text/plain": [
       "str"
      ]
     },
     "execution_count": 29,
     "metadata": {},
     "output_type": "execute_result"
    }
   ],
   "source": [
    "type(a)"
   ]
  },
  {
   "cell_type": "code",
   "execution_count": 30,
   "id": "1afb446c",
   "metadata": {},
   "outputs": [
    {
     "name": "stdout",
     "output_type": "stream",
     "text": [
      "첫번째 숫자를 입력해주세요>100\n",
      "두 번째 숫자를 입력해주세요>100\n",
      "100100\n"
     ]
    }
   ],
   "source": [
    "a = input(\"첫번째 숫자를 입력해주세요>\")  \n",
    "b = input(\"두 번째 숫자를 입력해주세요>\")  \n",
    "print(a+b)"
   ]
  },
  {
   "cell_type": "code",
   "execution_count": 32,
   "id": "b6be963a",
   "metadata": {},
   "outputs": [
    {
     "name": "stdout",
     "output_type": "stream",
     "text": [
      "첫번째 숫자를 입력해주세요>100\n",
      "두 번째 숫자를 입력해주세요>100\n",
      "200\n"
     ]
    }
   ],
   "source": [
    "a = int(input(\"첫번째 숫자를 입력해주세요>\")  )\n",
    "b = int(input(\"두 번째 숫자를 입력해주세요>\")  )\n",
    "print(a+b) #소수점일 때는 float"
   ]
  },
  {
   "cell_type": "code",
   "execution_count": null,
   "id": "dce8afac",
   "metadata": {},
   "outputs": [],
   "source": []
  },
  {
   "cell_type": "code",
   "execution_count": null,
   "id": "d8be281d",
   "metadata": {},
   "outputs": [],
   "source": []
  },
  {
   "cell_type": "code",
   "execution_count": null,
   "id": "8e8f24ce",
   "metadata": {},
   "outputs": [],
   "source": []
  },
  {
   "cell_type": "code",
   "execution_count": null,
   "id": "7ea30bfd",
   "metadata": {},
   "outputs": [],
   "source": []
  }
 ],
 "metadata": {
  "kernelspec": {
   "display_name": "Python 3 (ipykernel)",
   "language": "python",
   "name": "python3"
  },
  "language_info": {
   "codemirror_mode": {
    "name": "ipython",
    "version": 3
   },
   "file_extension": ".py",
   "mimetype": "text/x-python",
   "name": "python",
   "nbconvert_exporter": "python",
   "pygments_lexer": "ipython3",
   "version": "3.9.7"
  }
 },
 "nbformat": 4,
 "nbformat_minor": 5
}
